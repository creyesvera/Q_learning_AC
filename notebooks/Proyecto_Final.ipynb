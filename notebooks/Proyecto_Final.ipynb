{
  "cells": [
    {
      "cell_type": "markdown",
      "metadata": {
        "id": "Xo36FT8KHhDZ"
      },
      "source": [
        "#Proyecto v2"
      ]
    },
    {
      "cell_type": "markdown",
      "source": [
        "# Pre-procesamiento de datos"
      ],
      "metadata": {
        "id": "u_9QchHgx-w4"
      }
    },
    {
      "cell_type": "markdown",
      "metadata": {
        "id": "w-u_X7ErMwhc"
      },
      "source": [
        "## Instalaciones y librerías importadas"
      ]
    },
    {
      "cell_type": "code",
      "execution_count": null,
      "metadata": {
        "colab": {
          "base_uri": "https://localhost:8080/"
        },
        "collapsed": true,
        "id": "1wc3ijkzM_xB",
        "outputId": "596c524b-c0b9-4a8f-a2c4-30815412988a"
      },
      "outputs": [
        {
          "output_type": "stream",
          "name": "stdout",
          "text": [
            "Requirement already satisfied: requests in /usr/local/lib/python3.11/dist-packages (2.32.3)\n",
            "Requirement already satisfied: pandas in /usr/local/lib/python3.11/dist-packages (2.2.2)\n",
            "Requirement already satisfied: charset-normalizer<4,>=2 in /usr/local/lib/python3.11/dist-packages (from requests) (3.4.3)\n",
            "Requirement already satisfied: idna<4,>=2.5 in /usr/local/lib/python3.11/dist-packages (from requests) (3.10)\n",
            "Requirement already satisfied: urllib3<3,>=1.21.1 in /usr/local/lib/python3.11/dist-packages (from requests) (2.5.0)\n",
            "Requirement already satisfied: certifi>=2017.4.17 in /usr/local/lib/python3.11/dist-packages (from requests) (2025.8.3)\n",
            "Requirement already satisfied: numpy>=1.23.2 in /usr/local/lib/python3.11/dist-packages (from pandas) (2.0.2)\n",
            "Requirement already satisfied: python-dateutil>=2.8.2 in /usr/local/lib/python3.11/dist-packages (from pandas) (2.9.0.post0)\n",
            "Requirement already satisfied: pytz>=2020.1 in /usr/local/lib/python3.11/dist-packages (from pandas) (2025.2)\n",
            "Requirement already satisfied: tzdata>=2022.7 in /usr/local/lib/python3.11/dist-packages (from pandas) (2025.2)\n",
            "Requirement already satisfied: six>=1.5 in /usr/local/lib/python3.11/dist-packages (from python-dateutil>=2.8.2->pandas) (1.17.0)\n"
          ]
        }
      ],
      "source": [
        "pip install requests pandas"
      ]
    },
    {
      "cell_type": "code",
      "execution_count": null,
      "metadata": {
        "id": "SV2WvEN8Mvaz"
      },
      "outputs": [],
      "source": [
        "## Visualizar datos\n",
        "import pandas as pd\n",
        "import os\n",
        "\n",
        "## Graficar datos\n",
        "import matplotlib.pyplot as plt\n",
        "import ipywidgets as widgets\n",
        "from IPython.display import display\n",
        "\n",
        "## Discretización\n",
        "import numpy as np\n",
        "\n",
        "## Q_learning\n",
        "import time\n",
        "import random\n",
        "import numpy as np\n",
        "import matplotlib.pyplot as plt\n",
        "from typing import Dict, Tuple\n",
        "from tabulate import tabulate"
      ]
    },
    {
      "cell_type": "markdown",
      "metadata": {
        "id": "rCLCqDCUHo-f"
      },
      "source": [
        "##Conectar a Google Drive"
      ]
    },
    {
      "cell_type": "code",
      "execution_count": null,
      "metadata": {
        "colab": {
          "base_uri": "https://localhost:8080/"
        },
        "id": "i0iC3KIMJMhj",
        "outputId": "2cd3dd01-b2eb-497a-95a3-59bec228733e"
      },
      "outputs": [
        {
          "output_type": "stream",
          "name": "stdout",
          "text": [
            "Mounted at /content/drive\n"
          ]
        }
      ],
      "source": [
        "from google.colab import drive\n",
        "drive.mount('/content/drive')"
      ]
    },
    {
      "cell_type": "markdown",
      "metadata": {
        "id": "Cie0Z6xFH-vJ"
      },
      "source": [
        "##Importar carpetas"
      ]
    },
    {
      "cell_type": "markdown",
      "metadata": {
        "id": "iI9s7Owu5dVs"
      },
      "source": [
        "Se van a seleccionar los datos del día 17/06/2025 pues representa la mas alta variabilidad pra uno de los 5 sensores del laboratorio y contienen un valor relativamente bueno de variabilidad para los otros sensores"
      ]
    },
    {
      "cell_type": "markdown",
      "metadata": {
        "id": "eH96KN6j53BY"
      },
      "source": [
        "**Tabla Combinada de Varianzas por Sensor y Fecha**\n",
        "\n",
        "---\n",
        "\n",
        "| Sensor | 2025-06-07 | 2025-05-15 | 2025-06-17 | 2025-05-27 | 2025-05-28 |\n",
        "| :--------------------- | :--------- | :--------- | :--------- | :--------- | :--------- |\n",
        "| LabclimateUno          | 0.8725     | 3.5814     | 1.6101     | 0.8568     | 2.6708     |\n",
        "| LabclimateTres         | 0.5518     | 1.8405     | 2.7510     | 7.5940     | 4.9506     |\n",
        "| LabclimateDos          | 0.1907     | 2.4439     | 2.2598     | 1.0053     | 2.9346     |\n",
        "| LabclimateCuatro       | 0.4152     | 0.5233     | 1.6886     | 0.8282     | No existe  |\n",
        "| LabclimateCinco        | 0.7235     | No existe  | 2.8603   | 0.6747     | 4.0897     |\n",
        "| Estación meteorológica | 13.9143     | 5.4028     | 4.1377     | No existe  | No existe  |\n",
        "\n",
        "---"
      ]
    },
    {
      "cell_type": "code",
      "execution_count": null,
      "metadata": {
        "id": "BjMaGIWHJVRn"
      },
      "outputs": [],
      "source": [
        "## Datos de labclimate y la estación meteorológica\n",
        "labclimateUno = \"/content/drive/MyDrive/MachineLearning/Datos/hayIot-labclimateUno.csv\"\n",
        "labclimateTres = \"/content/drive/MyDrive/MachineLearning/Datos/hayIot-labclimateTres.csv\"\n",
        "labclimateDos = \"/content/drive/MyDrive/MachineLearning/Datos/hayIot-labclimateDos.csv\"\n",
        "labclimateCuatro = \"/content/drive/MyDrive/MachineLearning/Datos/hayIot-labclimateCuatro.csv\"\n",
        "estMeteorologica = \"/content/drive/MyDrive/MachineLearning/Datos/hayIot-Estación Meteorológica Jardín Delantero LST.csv\"\n",
        "\n",
        "\n",
        "\n",
        "## Datos del aire acondicionado\n",
        "Shelly_Iz = \"/content/drive/MyDrive/MachineLearning/Datos/hayIot-Shelly_Iz.csv\"       ##Solo un shelly porque el otro está dañado"
      ]
    },
    {
      "cell_type": "markdown",
      "metadata": {
        "id": "wuhHtVBEJuaB"
      },
      "source": [
        "### Horario\n",
        "Nota: ESTO DEBE ESTAR EN UN ARCHIVO CSV Y LUEGO SE LO IMPORTA AL IGUAL QUE LOS DATOS ANTERIORES"
      ]
    },
    {
      "cell_type": "code",
      "execution_count": null,
      "metadata": {
        "id": "r27GQBwmJt_A"
      },
      "outputs": [],
      "source": [
        "horario = {\n",
        "    'Hora': [\n",
        "        '7:00-7:30', '7:30-8:00', '8:00-8:30', '8:30-9:00', '9:00-9:30',\n",
        "        '9:30-10:00', '10:00-10:30', '10:30-11:00', '11:00-11:30', '11:30-12:00',\n",
        "        '12:00-12:30', '12:30-13:00', '13:00-13:30', '13:30-14:00', '14:00-14:30',\n",
        "        '14:30-15:00', '15:00-15:30', '15:30-16:00', '16:00-16:30', '16:30-17:00',\n",
        "        '17:00-17:30', '17:30-18:00', '18:00-18:30'\n",
        "    ],\n",
        "    'Lunes': [\n",
        "        'Vacío', 'Clases', 'Clases', 'Clases', 'Clases', 'Clases', 'Clases', 'Clases',\n",
        "        'Clases', 'Clases', 'Clases', 'Clases', 'Vacío', 'Clases', 'Clases', 'Clases',\n",
        "        'Vacío', 'Vacío', 'Vacío', 'Vacío', 'Vacío', 'Vacío', 'Vacío'\n",
        "    ],\n",
        "    'Martes': [\n",
        "        'Vacío', 'Laboratorio abierto', 'Laboratorio abierto', 'Laboratorio abierto', 'Clases',\n",
        "        'Clases', 'Clases', 'Clases', 'Clases', 'Clases', 'Clases', 'Clases', 'Vacío',\n",
        "        'Vacío', 'Laboratorio abierto', 'Laboratorio abierto', 'Laboratorio abierto',\n",
        "        'Laboratorio abierto', 'Vacío', 'Vacío', 'Vacío', 'Vacío', 'Vacío'\n",
        "    ],\n",
        "    'Miércoles': [\n",
        "        'Vacío', 'Laboratorio abierto', 'Laboratorio abierto', 'Laboratorio abierto',\n",
        "        'Laboratorio abierto', 'Clases', 'Clases', 'Clases', 'Clases', 'Clases',\n",
        "        'Clases', 'Clases', 'Clases', 'Clases', 'Clases', 'Vacío', 'Vacío', 'Vacío',\n",
        "        'Vacío', 'Vacío', 'Vacío', 'Vacío', 'Vacío'\n",
        "    ],\n",
        "    'Jueves': [\n",
        "        'Vacío', 'Vacío', 'Vacío', 'Vacío', 'Laboratorio abierto', 'Laboratorio abierto',\n",
        "        'Laboratorio abierto', 'Laboratorio abierto', 'Laboratorio abierto', 'Clases',\n",
        "        'Clases', 'Clases', 'Clases', 'Clases', 'Laboratorio abierto', 'Laboratorio abierto',\n",
        "        'Laboratorio abierto', 'Laboratorio abierto', 'Vacío', 'Vacío', 'Vacío', 'Vacío',\n",
        "        'Vacío'\n",
        "    ],\n",
        "    'Viernes': [\n",
        "        'Vacío', 'Vacío', 'Vacío', 'Vacío', 'Clases', 'Clases', 'Clases', 'Clases',\n",
        "        'Clases', 'Clases', 'Clases', 'Clases', 'Vacío', 'Vacío', 'Laboratorio abierto',\n",
        "        'Laboratorio abierto', 'Laboratorio abierto', 'Vacío', 'Vacío', 'Vacío', 'Vacío',\n",
        "        'Vacío', 'Vacío'\n",
        "    ]\n",
        "}"
      ]
    },
    {
      "cell_type": "markdown",
      "metadata": {
        "id": "AFa2CptGIEoR"
      },
      "source": [
        "##Visualizar datos seleccionados"
      ]
    },
    {
      "cell_type": "markdown",
      "metadata": {
        "id": "vqJsGzzvNEnz"
      },
      "source": [
        "###Funciones"
      ]
    },
    {
      "cell_type": "code",
      "execution_count": null,
      "metadata": {
        "id": "JvRdsTHPKaFE"
      },
      "outputs": [],
      "source": [
        "def archivo_a_dataframe(ruta_archivo):\n",
        "  # Verificar que el archivo existe\n",
        "  if os.path.exists(ruta_archivo):\n",
        "      # Cargar los datos desde el archivo CSV\n",
        "      df = pd.read_csv(ruta_archivo)\n",
        "\n",
        "      # Convertir la columna de fecha a datetime\n",
        "      df['sensedAt'] = pd.to_datetime(df['sensedAt'])\n",
        "\n",
        "      # Reorganizar la tabla con pivot\n",
        "      df_pivot = df.pivot(index='sensedAt', columns='type', values='data')\n",
        "\n",
        "      # Reiniciar el índice para tener 'sensedAt' como columna\n",
        "      df_pivot.reset_index(inplace=True)\n",
        "\n",
        "      # Separar la columna 'sensedAt' en 'Fecha' y 'Hora'\n",
        "      df_pivot['Fecha'] = df_pivot['sensedAt'].dt.date\n",
        "      df_pivot['Hora'] = df_pivot['sensedAt'].dt.time\n",
        "\n",
        "      # Eliminar la columna original 'sensedAt' si ya no es necesaria\n",
        "      # df_pivot.drop('sensedAt', axis=1, inplace=True) # Uncomment if you want to remove the original column\n",
        "\n",
        "      # Mostrar la tabla\n",
        "      print(\"Tabla de datos reorganizada:\")\n",
        "      print(df_pivot)\n",
        "  else:\n",
        "      print(f\"No se encontró el archivo en la ruta especificada: {ruta_archivo}\")\n",
        "  return df_pivot"
      ]
    },
    {
      "cell_type": "code",
      "execution_count": null,
      "metadata": {
        "id": "vSQFjsAzLbRM"
      },
      "outputs": [],
      "source": [
        "def graficar_datos(df_pivot):\n",
        "\n",
        "  # Obtener columnas de datos disponibles (excluyendo 'sensedAt', 'Fecha', 'Hora')\n",
        "  value_columns = df_pivot.columns.tolist()\n",
        "  columns_to_remove = ['sensedAt', 'Fecha', 'Hora']\n",
        "  value_columns = [col for col in value_columns if col not in columns_to_remove]\n",
        "\n",
        "  if not value_columns:\n",
        "      print(\"No hay columnas numéricas para graficar.\")\n",
        "      return\n",
        "\n",
        "  # Crear widgets\n",
        "  value_dropdown = widgets.Dropdown(\n",
        "      options=value_columns,\n",
        "      description='Seleccione el valor:',\n",
        "      disabled=False,\n",
        "  )\n",
        "\n",
        "  plot_button = widgets.Button(\n",
        "      description='Mostrar Gráfica',\n",
        "      disabled=False,\n",
        "      button_style='success',\n",
        "      tooltip='Mostrar gráfica',\n",
        "      icon='bar-chart'\n",
        "  )\n",
        "\n",
        "  output_widget = widgets.Output() # Widget para mostrar la gráfica y mensajes\n",
        "\n",
        "  # Función para manejar el clic del botón\n",
        "  def on_plot_button_clicked(b):\n",
        "      selected_value = value_dropdown.value\n",
        "\n",
        "      if selected_value in df_pivot.columns:\n",
        "          plt.figure(figsize=(12, 6))\n",
        "          plt.plot(df_pivot['sensedAt'], df_pivot[selected_value])\n",
        "          plt.xlabel('Tiempo (sensedAt)')\n",
        "          plt.ylabel(selected_value)\n",
        "          plt.title(f'Gráfica de {selected_value} vs Tiempo')\n",
        "          plt.grid(True)\n",
        "\n",
        "          plt.xticks(\n",
        "              ticks=df_pivot['sensedAt'][::50],\n",
        "              labels=df_pivot['Hora'][::50],\n",
        "              rotation=90\n",
        "          )\n",
        "\n",
        "          plt.tight_layout()\n",
        "          plt.show()\n",
        "      else:\n",
        "          print(f\"La columna '{selected_value}' no se encontró en el DataFrame.\")\n",
        "\n",
        "  # Asignar la función al evento de clic del botón\n",
        "  plot_button.on_click(on_plot_button_clicked)\n",
        "\n",
        "  # Mostrar los widgets\n",
        "  print(\"Seleccione el valor que desea graficar:\")\n",
        "  display(value_dropdown, plot_button)\n"
      ]
    },
    {
      "cell_type": "code",
      "execution_count": null,
      "metadata": {
        "id": "2H8t4QPVNnit"
      },
      "outputs": [],
      "source": [
        "## def horario_a_dataframe\n",
        "## def formulario_a_dataframe"
      ]
    },
    {
      "cell_type": "markdown",
      "metadata": {
        "id": "Gm-F-W3sNHO8"
      },
      "source": [
        "###Variables de datos dfs"
      ]
    },
    {
      "cell_type": "markdown",
      "metadata": {
        "id": "fe0KqygLOiH7"
      },
      "source": [
        "Se recupera toda la información de los csv"
      ]
    },
    {
      "cell_type": "code",
      "execution_count": null,
      "metadata": {
        "colab": {
          "base_uri": "https://localhost:8080/"
        },
        "collapsed": true,
        "id": "b7yn8ZMJNMoC",
        "outputId": "97c35095-01ab-43c8-978b-a72b3c68e757"
      },
      "outputs": [
        {
          "output_type": "stream",
          "name": "stdout",
          "text": [
            "Tabla de datos reorganizada:\n",
            "type            sensedAt  co2-concentration  humidity  temp       Fecha  \\\n",
            "0    2025-06-17 05:00:07              200.0      79.0  25.0  2025-06-17   \n",
            "1    2025-06-17 05:03:09              200.0      79.0  26.0  2025-06-17   \n",
            "2    2025-06-17 05:06:11              200.0      79.0  25.0  2025-06-17   \n",
            "3    2025-06-17 05:09:14              200.0      79.0  26.0  2025-06-17   \n",
            "4    2025-06-17 05:12:16              200.0      79.0  25.0  2025-06-17   \n",
            "..                   ...                ...       ...   ...         ...   \n",
            "462  2025-06-18 04:45:29              200.0      81.0  26.0  2025-06-18   \n",
            "463  2025-06-18 04:48:32              200.0      81.0  26.0  2025-06-18   \n",
            "464  2025-06-18 04:51:35              200.0      82.0  26.0  2025-06-18   \n",
            "465  2025-06-18 04:54:38              200.0      82.0  26.0  2025-06-18   \n",
            "466  2025-06-18 04:57:41              200.0      84.0  26.0  2025-06-18   \n",
            "\n",
            "type      Hora  \n",
            "0     05:00:07  \n",
            "1     05:03:09  \n",
            "2     05:06:11  \n",
            "3     05:09:14  \n",
            "4     05:12:16  \n",
            "..         ...  \n",
            "462   04:45:29  \n",
            "463   04:48:32  \n",
            "464   04:51:35  \n",
            "465   04:54:38  \n",
            "466   04:57:41  \n",
            "\n",
            "[467 rows x 6 columns]\n",
            "Tabla de datos reorganizada:\n",
            "type            sensedAt  co2-concentration  humidity  temp       Fecha  \\\n",
            "0    2025-06-17 05:00:42            2574.69      53.0  30.0  2025-06-17   \n",
            "1    2025-06-17 05:03:44            3440.99      53.0  30.0  2025-06-17   \n",
            "2    2025-06-17 05:06:47            3440.99      53.0  30.0  2025-06-17   \n",
            "3    2025-06-17 05:09:49            2574.69      53.0  30.0  2025-06-17   \n",
            "4    2025-06-17 05:12:51            3440.99      53.0  30.0  2025-06-17   \n",
            "..                   ...                ...       ...   ...         ...   \n",
            "474  2025-06-18 04:44:59            3036.70      56.0  29.0  2025-06-18   \n",
            "475  2025-06-18 04:48:02            3234.91      56.0  29.0  2025-06-18   \n",
            "476  2025-06-18 04:51:04            2846.22      56.0  29.0  2025-06-18   \n",
            "477  2025-06-18 04:54:06            3134.83      56.0  29.0  2025-06-18   \n",
            "478  2025-06-18 04:57:09            2940.50      56.0  29.0  2025-06-18   \n",
            "\n",
            "type      Hora  \n",
            "0     05:00:42  \n",
            "1     05:03:44  \n",
            "2     05:06:47  \n",
            "3     05:09:49  \n",
            "4     05:12:51  \n",
            "..         ...  \n",
            "474   04:44:59  \n",
            "475   04:48:02  \n",
            "476   04:51:04  \n",
            "477   04:54:06  \n",
            "478   04:57:09  \n",
            "\n",
            "[479 rows x 6 columns]\n",
            "Tabla de datos reorganizada:\n",
            "type            sensedAt  co2-concentration  humidity  temp       Fecha  \\\n",
            "0    2025-06-17 05:02:41              200.0      61.0  26.0  2025-06-17   \n",
            "1    2025-06-17 05:05:42              200.0      61.0  26.0  2025-06-17   \n",
            "2    2025-06-17 05:08:42              200.0      61.0  26.0  2025-06-17   \n",
            "3    2025-06-17 05:11:42              200.0      61.0  26.0  2025-06-17   \n",
            "4    2025-06-17 05:14:44              200.0      61.0  26.0  2025-06-17   \n",
            "..                   ...                ...       ...   ...         ...   \n",
            "472  2025-06-18 04:47:19              200.0      62.0  26.0  2025-06-18   \n",
            "473  2025-06-18 04:50:20              200.0      62.0  26.0  2025-06-18   \n",
            "474  2025-06-18 04:53:20              200.0      62.0  26.0  2025-06-18   \n",
            "475  2025-06-18 04:56:20              200.0      62.0  26.0  2025-06-18   \n",
            "476  2025-06-18 04:59:20              200.0      63.0  26.0  2025-06-18   \n",
            "\n",
            "type      Hora  \n",
            "0     05:02:41  \n",
            "1     05:05:42  \n",
            "2     05:08:42  \n",
            "3     05:11:42  \n",
            "4     05:14:44  \n",
            "..         ...  \n",
            "472   04:47:19  \n",
            "473   04:50:20  \n",
            "474   04:53:20  \n",
            "475   04:56:20  \n",
            "476   04:59:20  \n",
            "\n",
            "[477 rows x 6 columns]\n",
            "Tabla de datos reorganizada:\n",
            "type            sensedAt  co2-concentration  humidity  temp       Fecha  \\\n",
            "0    2025-06-17 05:00:15              200.0      58.0  27.0  2025-06-17   \n",
            "1    2025-06-17 05:03:15              200.0      58.0  27.0  2025-06-17   \n",
            "2    2025-06-17 05:06:14              200.0      58.0  27.0  2025-06-17   \n",
            "3    2025-06-17 05:09:14              200.0      58.0  27.0  2025-06-17   \n",
            "4    2025-06-17 05:12:13              200.0      58.0  27.0  2025-06-17   \n",
            "..                   ...                ...       ...   ...         ...   \n",
            "477  2025-06-18 04:47:42              200.0      59.0  26.0  2025-06-18   \n",
            "478  2025-06-18 04:50:42              200.0      59.0  26.0  2025-06-18   \n",
            "479  2025-06-18 04:53:41              200.0      59.0  26.0  2025-06-18   \n",
            "480  2025-06-18 04:56:40              200.0      59.0  26.0  2025-06-18   \n",
            "481  2025-06-18 04:59:40              200.0      59.0  26.0  2025-06-18   \n",
            "\n",
            "type      Hora  \n",
            "0     05:00:15  \n",
            "1     05:03:15  \n",
            "2     05:06:14  \n",
            "3     05:09:14  \n",
            "4     05:12:13  \n",
            "..         ...  \n",
            "477   04:47:42  \n",
            "478   04:50:42  \n",
            "479   04:53:41  \n",
            "480   04:56:40  \n",
            "481   04:59:40  \n",
            "\n",
            "[482 rows x 6 columns]\n",
            "Tabla de datos reorganizada:\n",
            "type            sensedAt  air-velocity   altitude  atmospheric-pressure  \\\n",
            "0    2025-06-17 05:03:04       4.97520  66.232796           1005.320007   \n",
            "1    2025-06-17 05:06:11       4.47768  66.400536           1005.299988   \n",
            "2    2025-06-17 05:12:35       3.48264  67.322136           1005.190002   \n",
            "3    2025-06-17 05:15:46       4.97520  68.327713           1005.070007   \n",
            "4    2025-06-17 05:18:55       4.97520  68.243820           1005.080017   \n",
            "..                   ...           ...        ...                   ...   \n",
            "405  2025-06-18 04:43:09       2.98512  69.166100           1004.969971   \n",
            "406  2025-06-18 04:46:19       3.98016  70.087952           1004.859985   \n",
            "407  2025-06-18 04:49:26       4.47768  68.914421           1005.000000   \n",
            "408  2025-06-18 04:55:47       3.98016  68.662750           1005.030029   \n",
            "409  2025-06-18 04:58:56       4.47768  70.004051           1004.869995   \n",
            "\n",
            "type    humidity  precipitation       temp  wind-direction       Fecha  \\\n",
            "0     108.772797            0.0  22.530657       52.949493  2025-06-17   \n",
            "1     108.810944            0.0  22.530657       37.186005  2025-06-17   \n",
            "2     108.856720            0.0  22.519932       35.084198  2025-06-17   \n",
            "3     108.902496            0.0  22.584282       27.727905  2025-06-17   \n",
            "4     108.879608            0.0  22.595007       32.982391  2025-06-17   \n",
            "..           ...            ...        ...             ...         ...   \n",
            "405   112.587494            0.0  22.198179      348.144012  2025-06-18   \n",
            "406   112.625641            0.0  22.166004      343.940399  2025-06-18   \n",
            "407   112.618011            0.0  22.241079      349.545197  2025-06-18   \n",
            "408   112.572235            0.0  22.219629      320.119995  2025-06-18   \n",
            "409   112.534088            0.0  22.273254      337.985291  2025-06-18   \n",
            "\n",
            "type      Hora  \n",
            "0     05:03:04  \n",
            "1     05:06:11  \n",
            "2     05:12:35  \n",
            "3     05:15:46  \n",
            "4     05:18:55  \n",
            "..         ...  \n",
            "405   04:43:09  \n",
            "406   04:46:19  \n",
            "407   04:49:26  \n",
            "408   04:55:47  \n",
            "409   04:58:56  \n",
            "\n",
            "[410 rows x 10 columns]\n",
            "Tabla de datos reorganizada:\n",
            "type             sensedAt  corriente_A  corriente_B  corriente_C  energia_A  \\\n",
            "0     2025-06-17 05:00:00         0.02         0.02         0.01  1069657.5   \n",
            "1     2025-06-17 05:00:10         0.02         0.02         0.01  1069657.5   \n",
            "2     2025-06-17 05:00:20         0.02         0.02         0.01  1069657.5   \n",
            "3     2025-06-17 05:00:30         0.02         0.02         0.01  1069657.5   \n",
            "4     2025-06-17 05:00:40         0.02         0.02         0.01  1069657.5   \n",
            "...                   ...          ...          ...          ...        ...   \n",
            "17258 2025-06-19 04:59:10         0.02         0.02         0.01  1080105.0   \n",
            "17259 2025-06-19 04:59:20         0.02         0.02         0.01  1080105.0   \n",
            "17260 2025-06-19 04:59:30         0.02         0.02         0.01  1080105.0   \n",
            "17261 2025-06-19 04:59:40         0.02         0.02         0.01  1080105.0   \n",
            "17262 2025-06-19 04:59:50         0.02         0.02         0.01  1080105.0   \n",
            "\n",
            "type   energia_B  energia_C  factor_potencia_A  factor_potencia_B  \\\n",
            "0       977284.1        0.0               0.47              -0.32   \n",
            "1       977284.1        0.0               0.47              -0.29   \n",
            "2       977284.1        0.0               0.46              -0.29   \n",
            "3       977284.1        0.0               0.45              -0.29   \n",
            "4       977284.1        0.0               0.45              -0.27   \n",
            "...          ...        ...                ...                ...   \n",
            "17258   987488.2        0.0               0.46              -0.27   \n",
            "17259   987488.2        0.0               0.45              -0.29   \n",
            "17260   987488.2        0.0               0.47              -0.28   \n",
            "17261   987488.2        0.0               0.46              -0.28   \n",
            "17262   987488.2        0.0               0.44              -0.31   \n",
            "\n",
            "type   factor_potencia_C  potencia_A  potencia_B  potencia_C  voltaje_A  \\\n",
            "0                    0.0         0.0         0.0         0.0     127.27   \n",
            "1                    0.0         0.0         0.0         0.0     127.03   \n",
            "2                    0.0         0.0         0.0         0.0     127.10   \n",
            "3                    0.0         0.0         0.0         0.0     127.05   \n",
            "4                    0.0         0.0         0.0         0.0     126.94   \n",
            "...                  ...         ...         ...         ...        ...   \n",
            "17258                0.0         0.0         0.0         0.0     127.29   \n",
            "17259                0.0         0.0         0.0         0.0     127.46   \n",
            "17260                0.0         0.0         0.0         0.0     127.23   \n",
            "17261                0.0         0.0         0.0         0.0     127.25   \n",
            "17262                0.0         0.0         0.0         0.0     127.41   \n",
            "\n",
            "type   voltaje_B  voltaje_C       Fecha      Hora  \n",
            "0         126.69        0.1  2025-06-17  05:00:00  \n",
            "1         126.47        0.1  2025-06-17  05:00:10  \n",
            "2         126.53        0.1  2025-06-17  05:00:20  \n",
            "3         126.54        0.1  2025-06-17  05:00:30  \n",
            "4         126.48        0.1  2025-06-17  05:00:40  \n",
            "...          ...        ...         ...       ...  \n",
            "17258     126.79        0.1  2025-06-19  04:59:10  \n",
            "17259     126.94        0.1  2025-06-19  04:59:20  \n",
            "17260     126.88        0.1  2025-06-19  04:59:30  \n",
            "17261     126.77        0.1  2025-06-19  04:59:40  \n",
            "17262     126.89        0.1  2025-06-19  04:59:50  \n",
            "\n",
            "[17263 rows x 18 columns]\n"
          ]
        }
      ],
      "source": [
        "df_labclimateUno = archivo_a_dataframe(labclimateUno)\n",
        "df_labclimateTres = archivo_a_dataframe(labclimateTres)\n",
        "df_labclimateDos = archivo_a_dataframe(labclimateDos)\n",
        "df_labclimateCuatro = archivo_a_dataframe(labclimateCuatro)\n",
        "df_estMeteorologica = archivo_a_dataframe(estMeteorologica)\n",
        "\n",
        "df_shelly_iz = archivo_a_dataframe(Shelly_Iz)"
      ]
    },
    {
      "cell_type": "markdown",
      "metadata": {
        "id": "AWgjCpGZOmE-"
      },
      "source": [
        "Se mantienen solamente los datos a utilizar en el entrenamiento, en este caso solo temperatura"
      ]
    },
    {
      "cell_type": "code",
      "execution_count": null,
      "metadata": {
        "colab": {
          "base_uri": "https://localhost:8080/"
        },
        "id": "L5VL9YuxSfcy",
        "outputId": "94707fbb-4805-49cd-d59e-a2604b611d16"
      },
      "outputs": [
        {
          "output_type": "stream",
          "name": "stdout",
          "text": [
            "type       Fecha      Hora            sensedAt  temp\n",
            "0     2025-06-17  05:00:07 2025-06-17 05:00:07  25.0\n",
            "1     2025-06-17  05:03:09 2025-06-17 05:03:09  26.0\n",
            "2     2025-06-17  05:06:11 2025-06-17 05:06:11  25.0\n",
            "3     2025-06-17  05:09:14 2025-06-17 05:09:14  26.0\n",
            "4     2025-06-17  05:12:16 2025-06-17 05:12:16  25.0\n",
            "type       Fecha      Hora            sensedAt  temp\n",
            "0     2025-06-17  05:00:42 2025-06-17 05:00:42  30.0\n",
            "1     2025-06-17  05:03:44 2025-06-17 05:03:44  30.0\n",
            "2     2025-06-17  05:06:47 2025-06-17 05:06:47  30.0\n",
            "3     2025-06-17  05:09:49 2025-06-17 05:09:49  30.0\n",
            "4     2025-06-17  05:12:51 2025-06-17 05:12:51  30.0\n",
            "type       Fecha      Hora            sensedAt  temp\n",
            "0     2025-06-17  05:02:41 2025-06-17 05:02:41  26.0\n",
            "1     2025-06-17  05:05:42 2025-06-17 05:05:42  26.0\n",
            "2     2025-06-17  05:08:42 2025-06-17 05:08:42  26.0\n",
            "3     2025-06-17  05:11:42 2025-06-17 05:11:42  26.0\n",
            "4     2025-06-17  05:14:44 2025-06-17 05:14:44  26.0\n",
            "type       Fecha      Hora            sensedAt  temp\n",
            "0     2025-06-17  05:00:15 2025-06-17 05:00:15  27.0\n",
            "1     2025-06-17  05:03:15 2025-06-17 05:03:15  27.0\n",
            "2     2025-06-17  05:06:14 2025-06-17 05:06:14  27.0\n",
            "3     2025-06-17  05:09:14 2025-06-17 05:09:14  27.0\n",
            "4     2025-06-17  05:12:13 2025-06-17 05:12:13  27.0\n",
            "type       Fecha      Hora            sensedAt       temp\n",
            "0     2025-06-17  05:03:04 2025-06-17 05:03:04  22.530657\n",
            "1     2025-06-17  05:06:11 2025-06-17 05:06:11  22.530657\n",
            "2     2025-06-17  05:12:35 2025-06-17 05:12:35  22.519932\n",
            "3     2025-06-17  05:15:46 2025-06-17 05:15:46  22.584282\n",
            "4     2025-06-17  05:18:55 2025-06-17 05:18:55  22.595007\n"
          ]
        }
      ],
      "source": [
        "columnas_a_conservar = ['Fecha', 'Hora', 'sensedAt', 'temp']\n",
        "\n",
        "\n",
        "df_labclimateUno = df_labclimateUno[columnas_a_conservar]\n",
        "print(df_labclimateUno.head())\n",
        "\n",
        "\n",
        "df_labclimateTres = df_labclimateTres[columnas_a_conservar]\n",
        "print(df_labclimateTres.head())\n",
        "\n",
        "\n",
        "df_labclimateDos = df_labclimateDos[columnas_a_conservar]\n",
        "print(df_labclimateDos.head())\n",
        "\n",
        "\n",
        "df_labclimateCuatro = df_labclimateCuatro[columnas_a_conservar]\n",
        "print(df_labclimateCuatro.head())\n",
        "\n",
        "\n",
        "df_estMeteorologica = df_estMeteorologica[columnas_a_conservar]\n",
        "print(df_estMeteorologica.head())"
      ]
    },
    {
      "cell_type": "markdown",
      "metadata": {
        "id": "7IYCLjiNOxYl"
      },
      "source": [
        "Acá se conservan únicamente los datos de portencia para establecer más adelante si el aire está encendido o apagado"
      ]
    },
    {
      "cell_type": "code",
      "execution_count": null,
      "metadata": {
        "colab": {
          "base_uri": "https://localhost:8080/"
        },
        "id": "tySnCr4HSfH8",
        "outputId": "9299ee6a-191b-4a1b-99c0-1d99336529c5"
      },
      "outputs": [
        {
          "output_type": "stream",
          "name": "stdout",
          "text": [
            "type            sensedAt       Fecha      Hora  potencia_A\n",
            "0    2025-06-17 05:00:00  2025-06-17  05:00:00         0.0\n",
            "1    2025-06-17 05:00:10  2025-06-17  05:00:10         0.0\n",
            "2    2025-06-17 05:00:20  2025-06-17  05:00:20         0.0\n",
            "3    2025-06-17 05:00:30  2025-06-17  05:00:30         0.0\n",
            "4    2025-06-17 05:00:40  2025-06-17  05:00:40         0.0\n"
          ]
        }
      ],
      "source": [
        "columnas_a_conservar = ['sensedAt','Fecha', 'Hora', 'potencia_A']\n",
        "df_shelly_iz = df_shelly_iz[columnas_a_conservar]\n",
        "print(df_shelly_iz.head())"
      ]
    },
    {
      "cell_type": "markdown",
      "metadata": {
        "id": "YCIuHqEGqaD2"
      },
      "source": [
        "En esta parte se lleva el horario a un dataframe para saber más adelante si en la siguiente hora hay o no hay clases"
      ]
    },
    {
      "cell_type": "code",
      "execution_count": null,
      "metadata": {
        "colab": {
          "base_uri": "https://localhost:8080/"
        },
        "id": "gly8H4P6Nztp",
        "outputId": "bbaf7177-ab41-4bf0-f89f-7e82d163be6c"
      },
      "outputs": [
        {
          "output_type": "stream",
          "name": "stdout",
          "text": [
            "           Hora          Lunes         Martes      Miércoles         Jueves  \\\n",
            "0     7:00-7:30  No hay clases  No hay clases  No hay clases  No hay clases   \n",
            "1     7:30-8:00         Clases         Clases         Clases  No hay clases   \n",
            "2     8:00-8:30         Clases         Clases         Clases  No hay clases   \n",
            "3     8:30-9:00         Clases         Clases         Clases  No hay clases   \n",
            "4     9:00-9:30         Clases         Clases         Clases         Clases   \n",
            "5    9:30-10:00         Clases         Clases         Clases         Clases   \n",
            "6   10:00-10:30         Clases         Clases         Clases         Clases   \n",
            "7   10:30-11:00         Clases         Clases         Clases         Clases   \n",
            "8   11:00-11:30         Clases         Clases         Clases         Clases   \n",
            "9   11:30-12:00         Clases         Clases         Clases         Clases   \n",
            "10  12:00-12:30         Clases         Clases         Clases         Clases   \n",
            "11  12:30-13:00         Clases         Clases         Clases         Clases   \n",
            "12  13:00-13:30  No hay clases  No hay clases         Clases         Clases   \n",
            "13  13:30-14:00         Clases  No hay clases         Clases         Clases   \n",
            "14  14:00-14:30         Clases         Clases         Clases         Clases   \n",
            "15  14:30-15:00         Clases         Clases  No hay clases         Clases   \n",
            "16  15:00-15:30  No hay clases         Clases  No hay clases         Clases   \n",
            "17  15:30-16:00  No hay clases         Clases  No hay clases         Clases   \n",
            "18  16:00-16:30  No hay clases  No hay clases  No hay clases  No hay clases   \n",
            "19  16:30-17:00  No hay clases  No hay clases  No hay clases  No hay clases   \n",
            "20  17:00-17:30  No hay clases  No hay clases  No hay clases  No hay clases   \n",
            "21  17:30-18:00  No hay clases  No hay clases  No hay clases  No hay clases   \n",
            "22  18:00-18:30  No hay clases  No hay clases  No hay clases  No hay clases   \n",
            "\n",
            "          Viernes  \n",
            "0   No hay clases  \n",
            "1   No hay clases  \n",
            "2   No hay clases  \n",
            "3   No hay clases  \n",
            "4          Clases  \n",
            "5          Clases  \n",
            "6          Clases  \n",
            "7          Clases  \n",
            "8          Clases  \n",
            "9          Clases  \n",
            "10         Clases  \n",
            "11         Clases  \n",
            "12  No hay clases  \n",
            "13  No hay clases  \n",
            "14         Clases  \n",
            "15         Clases  \n",
            "16         Clases  \n",
            "17  No hay clases  \n",
            "18  No hay clases  \n",
            "19  No hay clases  \n",
            "20  No hay clases  \n",
            "21  No hay clases  \n",
            "22  No hay clases  \n"
          ]
        }
      ],
      "source": [
        "# Crear el DataFrame de pandas\n",
        "df_horario = pd.DataFrame(horario)\n",
        "\n",
        "# Función para determinar si hay clases o laboratorio abierto\n",
        "def get_activity_type(cell_content):\n",
        "    if \"Laboratorio abierto\" in str(cell_content):\n",
        "        return \"Clases\"\n",
        "    elif str(cell_content).strip() and str(cell_content) != 'Vacío':\n",
        "        return \"Clases\"\n",
        "    else:\n",
        "        return \"No hay clases\"\n",
        "\n",
        "# Aplicar la función a cada celda de los días de la semana\n",
        "for day in ['Lunes', 'Martes', 'Miércoles', 'Jueves', 'Viernes']:\n",
        "    df_horario[day] = df_horario[day].apply(get_activity_type)\n",
        "\n",
        "# Imprimir el DataFrame\n",
        "print(df_horario)"
      ]
    },
    {
      "cell_type": "markdown",
      "metadata": {
        "id": "jX05B-u6IK-u"
      },
      "source": [
        "##Discretizar datos en categorías"
      ]
    },
    {
      "cell_type": "markdown",
      "metadata": {
        "id": "QZDaAJjEaGiq"
      },
      "source": [
        "### Función de preprocessing"
      ]
    },
    {
      "cell_type": "code",
      "execution_count": null,
      "metadata": {
        "id": "JcjE8qfLZAyI"
      },
      "outputs": [],
      "source": [
        "def preprocessing(df, columnas_a_filtrar, limites_outliers):\n",
        "    # Asegurar que sensedAt sea datetime\n",
        "    df['sensedAt'] = pd.to_datetime(df['sensedAt'])\n",
        "    df.sort_values('sensedAt', inplace=True)\n",
        "    df.set_index('sensedAt', inplace=True)\n",
        "\n",
        "    # Convertir objetos a tipos inferidos antes de interpolar (evita FutureWarning)\n",
        "    df = df.infer_objects(copy=False)\n",
        "\n",
        "    # Interpolación temporal\n",
        "    df_interpolated = df.interpolate(method='time')\n",
        "\n",
        "    # Reemplazo de NaNs en los bordes\n",
        "    df_interpolated = df_interpolated.bfill()\n",
        "    df_interpolated = df_interpolated.ffill()\n",
        "\n",
        "    # Filtro por límites (outliers)\n",
        "    for col, (min_val, max_val) in limites_outliers.items():\n",
        "        if col in df_interpolated.columns:\n",
        "            df_interpolated = df_interpolated[df_interpolated[col].between(min_val, max_val)]\n",
        "\n",
        "    return df_interpolated\n"
      ]
    },
    {
      "cell_type": "markdown",
      "metadata": {
        "id": "gXYHwt2haL_M"
      },
      "source": [
        "### Agrupar y discretizar los datos cada cierta cantidad de tiempo"
      ]
    },
    {
      "cell_type": "code",
      "execution_count": null,
      "metadata": {
        "id": "Xfakf612cnSf"
      },
      "outputs": [],
      "source": [
        "tiempo = 30 #min"
      ]
    },
    {
      "cell_type": "markdown",
      "metadata": {
        "id": "RwiMlHG75-fu"
      },
      "source": [
        "| Variable                         | Rango original        | Rango discretizado (niveles)                         | N niveles |\n",
        "| :------------------------------- | :-------------------- | :--------------------------------------------------- | :-------- |\n",
        "| Sensores de temperatura          | 15 °C a 38 °C         | 0: baja (15-23), 1: media (24-30), 2: alta (31-38)   | 3         |\n",
        "| Número de personas               | 0 a 20                | 0: 0, 1: 1-10, 2: 10-20                              | 3         |\n",
        "| Ubicación relativa (por cercanía a ventila) | variable espacial     | 0: dispersas, 1: agrupadas cerca de ventilación, 2: agrupadas lejos | 3         |\n",
        "| Panel de opinión térmica         | 0 a 5                 | 0: muy fría (0-1), 1: neutra (2-3), 2: muy calurosa (4-5) | 3         |\n",
        "| Horario de clase del siguiente periodo | Booleano              | 0: fuera de clase, 1: en clase                       | 2         |\n",
        "| Temperatura externa              | 20 °C a 35 °C         | 0: baja (20-24), 1: media (25-30), 2: alta (31-35)   | 3         |\n",
        "| Estado de aire acondicionado    | Booleano              | 0: apagado, 1: encendido                             | 2         |\n",
        "|                                  |                       | Numero de combinaciones validas                      | 700       |\n"
      ]
    },
    {
      "cell_type": "markdown",
      "metadata": {
        "id": "5sc4X26bcgoH"
      },
      "source": [
        "####Temperatura interna"
      ]
    },
    {
      "cell_type": "code",
      "execution_count": null,
      "metadata": {
        "colab": {
          "base_uri": "https://localhost:8080/"
        },
        "collapsed": true,
        "id": "vnDE5JBMaWsJ",
        "outputId": "5a73b8dc-b3f7-47f3-c3d7-3a10840dd088"
      },
      "outputs": [
        {
          "output_type": "stream",
          "name": "stderr",
          "text": [
            "/tmp/ipython-input-4248195487.py:11: FutureWarning: DataFrame.interpolate with object dtype is deprecated and will raise in a future version. Call obj.infer_objects(copy=False) before interpolating instead.\n",
            "  df_interpolated = df.interpolate(method='time')\n",
            "/tmp/ipython-input-4248195487.py:11: FutureWarning: DataFrame.interpolate with object dtype is deprecated and will raise in a future version. Call obj.infer_objects(copy=False) before interpolating instead.\n",
            "  df_interpolated = df.interpolate(method='time')\n",
            "/tmp/ipython-input-4248195487.py:11: FutureWarning: DataFrame.interpolate with object dtype is deprecated and will raise in a future version. Call obj.infer_objects(copy=False) before interpolating instead.\n",
            "  df_interpolated = df.interpolate(method='time')\n",
            "/tmp/ipython-input-4248195487.py:11: FutureWarning: DataFrame.interpolate with object dtype is deprecated and will raise in a future version. Call obj.infer_objects(copy=False) before interpolating instead.\n",
            "  df_interpolated = df.interpolate(method='time')\n"
          ]
        }
      ],
      "source": [
        "columnas = ['temp']\n",
        "limites = {\n",
        "    'temp': (15, 38),\n",
        "}\n",
        "\n",
        "df_scaled_labclimateUno = preprocessing(df_labclimateUno, columnas_a_filtrar=columnas, limites_outliers=limites)\n",
        "df_scaled_labclimateTres = preprocessing(df_labclimateTres, columnas_a_filtrar=columnas, limites_outliers=limites)\n",
        "df_scaled_labclimateDos = preprocessing(df_labclimateDos, columnas_a_filtrar=columnas, limites_outliers=limites)\n",
        "df_scaled_labclimateCuatro = preprocessing(df_labclimateCuatro, columnas_a_filtrar=columnas, limites_outliers=limites)"
      ]
    },
    {
      "cell_type": "code",
      "execution_count": null,
      "metadata": {
        "colab": {
          "base_uri": "https://localhost:8080/"
        },
        "id": "PTj6XU3zcvcm",
        "outputId": "2bdc51e1-4c3b-4bb6-b2f0-6b6bb31c8917"
      },
      "outputs": [
        {
          "output_type": "stream",
          "name": "stdout",
          "text": [
            "             sensedAt       Fecha      Hora  temp\n",
            "0 2025-06-17 05:00:07  2025-06-17  05:00:07  25.0\n",
            "1 2025-06-17 05:00:15  2025-06-17  05:00:15  27.0\n",
            "2 2025-06-17 05:00:42  2025-06-17  05:00:42  30.0\n",
            "3 2025-06-17 05:02:41  2025-06-17  05:02:41  26.0\n",
            "4 2025-06-17 05:03:09  2025-06-17  05:03:09  26.0\n"
          ]
        }
      ],
      "source": [
        "# Combinar los 4 DataFrames\n",
        "df_combinado = pd.concat([\n",
        "    df_scaled_labclimateUno.reset_index(),\n",
        "    df_scaled_labclimateTres.reset_index(),\n",
        "    df_scaled_labclimateDos.reset_index(),\n",
        "    df_scaled_labclimateCuatro.reset_index()\n",
        "])\n",
        "\n",
        "# Agrupar por sensedAt, Fecha y Hora, y calcular el promedio de 'temp'\n",
        "df_temperatura_interna = df_combinado.groupby(['sensedAt', 'Fecha', 'Hora']).agg(temp=('temp', 'mean')).reset_index()\n",
        "\n",
        "# Mostrar el resultado\n",
        "print(df_temperatura_interna.head())"
      ]
    },
    {
      "cell_type": "code",
      "execution_count": null,
      "metadata": {
        "colab": {
          "base_uri": "https://localhost:8080/"
        },
        "id": "ZN5B8lxjkGEY",
        "outputId": "ca3e26d3-df5b-4907-e223-3ef89a740077"
      },
      "outputs": [
        {
          "output_type": "stream",
          "name": "stdout",
          "text": [
            "Empty DataFrame\n",
            "Columns: [sensedAt, Fecha, Hora, temp]\n",
            "Index: []\n"
          ]
        }
      ],
      "source": [
        "print(df_temperatura_interna[df_temperatura_interna['temp'].isna()])"
      ]
    },
    {
      "cell_type": "markdown",
      "metadata": {
        "id": "-JwOvC3CgGqy"
      },
      "source": [
        "| Variable                         | Rango original        | Rango discretizado (niveles)                         | N niveles |\n",
        "| :------------------------------- | :-------------------- | :--------------------------------------------------- | :-------- |\n",
        "| Sensores de temperatura          | 15 °C a 38 °C         | 0: baja (15-23), 1: media (24-30), 2: alta (31-38)   | 3         |"
      ]
    },
    {
      "cell_type": "code",
      "execution_count": null,
      "metadata": {
        "colab": {
          "base_uri": "https://localhost:8080/"
        },
        "id": "tELMuboTe_-3",
        "outputId": "b40dbe05-23db-4d2d-9b79-dedc479f06ad"
      },
      "outputs": [
        {
          "output_type": "stream",
          "name": "stdout",
          "text": [
            "             sensedAt       Fecha      Hora  temp temp_discretizada\n",
            "0 2025-06-17 05:00:07  2025-06-17  05:00:07  25.0                 1\n",
            "1 2025-06-17 05:00:15  2025-06-17  05:00:15  27.0                 1\n",
            "2 2025-06-17 05:00:42  2025-06-17  05:00:42  30.0                 2\n",
            "3 2025-06-17 05:02:41  2025-06-17  05:02:41  26.0                 1\n",
            "4 2025-06-17 05:03:09  2025-06-17  05:03:09  26.0                 1\n"
          ]
        }
      ],
      "source": [
        "# Discretizar la temperatura interna\n",
        "bins = [15, 23, 30, 38]\n",
        "labels = [0, 1, 2]\n",
        "df_temperatura_interna['temp_discretizada'] = pd.cut(df_temperatura_interna['temp'], bins=bins, labels=labels, right=False)\n",
        "\n",
        "print(df_temperatura_interna.head())"
      ]
    },
    {
      "cell_type": "markdown",
      "metadata": {
        "id": "A9ZoyIR3ez1C"
      },
      "source": [
        "####Temperatura externa"
      ]
    },
    {
      "cell_type": "code",
      "execution_count": null,
      "metadata": {
        "colab": {
          "base_uri": "https://localhost:8080/"
        },
        "id": "Ca0Zv_BvcB3l",
        "outputId": "9e20bc02-6347-4a90-89db-f9278d35a705"
      },
      "outputs": [
        {
          "output_type": "stream",
          "name": "stderr",
          "text": [
            "/tmp/ipython-input-4248195487.py:11: FutureWarning: DataFrame.interpolate with object dtype is deprecated and will raise in a future version. Call obj.infer_objects(copy=False) before interpolating instead.\n",
            "  df_interpolated = df.interpolate(method='time')\n"
          ]
        }
      ],
      "source": [
        "columnas = ['temp']\n",
        "limites = {\n",
        "    'temp': (15, 40),\n",
        "}\n",
        "\n",
        "df_scaled_estMeteorologica = preprocessing(df_estMeteorologica, columnas_a_filtrar=columnas, limites_outliers=limites)"
      ]
    },
    {
      "cell_type": "markdown",
      "metadata": {
        "id": "OZnjfWbdg-3n"
      },
      "source": [
        "| Variable                         | Rango original        | Rango discretizado (niveles)                         | N niveles |\n",
        "| :------------------------------- | :-------------------- | :--------------------------------------------------- | :-------- |\n",
        "| Temperatura externa              | 20 °C a 35 °C         | 0: baja (20-24), 1: media (25-30), 2: alta (31-35)   | 3         |\n"
      ]
    },
    {
      "cell_type": "code",
      "execution_count": null,
      "metadata": {
        "colab": {
          "base_uri": "https://localhost:8080/"
        },
        "id": "a0BKuxzigSJy",
        "outputId": "a38e5992-5493-40ce-91a9-a521dc00ed27"
      },
      "outputs": [
        {
          "output_type": "stream",
          "name": "stdout",
          "text": [
            "type                      Fecha      Hora       temp temp_discretizada\n",
            "sensedAt                                                              \n",
            "2025-06-17 05:03:04  2025-06-17  05:03:04  22.530657                 0\n",
            "2025-06-17 05:06:11  2025-06-17  05:06:11  22.530657                 0\n",
            "2025-06-17 05:12:35  2025-06-17  05:12:35  22.519932                 0\n",
            "2025-06-17 05:15:46  2025-06-17  05:15:46  22.584282                 0\n",
            "2025-06-17 05:18:55  2025-06-17  05:18:55  22.595007                 0\n"
          ]
        }
      ],
      "source": [
        "# Discretizar la temperatura externa\n",
        "bins = [20, 24, 30, 35]\n",
        "labels = [0, 1, 2]\n",
        "df_scaled_estMeteorologica['temp_discretizada'] = pd.cut(df_scaled_estMeteorologica['temp'], bins=bins, labels=labels, right=False)\n",
        "\n",
        "print(df_scaled_estMeteorologica.head())"
      ]
    },
    {
      "cell_type": "markdown",
      "metadata": {
        "id": "5z8DeQobhR4o"
      },
      "source": [
        "####Estado del Aire acondicionado\n",
        "\n"
      ]
    },
    {
      "cell_type": "markdown",
      "metadata": {
        "id": "ufvufKSjh4AY"
      },
      "source": [
        "| Variable                         | Rango original        | Rango discretizado (niveles)                         | N niveles |\n",
        "| :------------------------------- | :-------------------- | :--------------------------------------------------- | :-------- |\n",
        "| Estado de aire acondicionado    | Booleano              | 0: apagado, 1: encendido                             | 2         |\n"
      ]
    },
    {
      "cell_type": "code",
      "execution_count": null,
      "metadata": {
        "colab": {
          "base_uri": "https://localhost:8080/"
        },
        "id": "wNrt8LfMcH4a",
        "outputId": "27db8e5a-3836-41ec-a9aa-bd2b5901cf82"
      },
      "outputs": [
        {
          "output_type": "stream",
          "name": "stdout",
          "text": [
            "type            sensedAt       Fecha      Hora  potencia_A  estado del aire\n",
            "0    2025-06-17 05:00:00  2025-06-17  05:00:00         0.0                0\n",
            "1    2025-06-17 05:00:10  2025-06-17  05:00:10         0.0                0\n",
            "2    2025-06-17 05:00:20  2025-06-17  05:00:20         0.0                0\n",
            "3    2025-06-17 05:00:30  2025-06-17  05:00:30         0.0                0\n",
            "4    2025-06-17 05:00:40  2025-06-17  05:00:40         0.0                0\n"
          ]
        }
      ],
      "source": [
        "df_shelly_iz['estado del aire'] = (df_shelly_iz['potencia_A'] > 20).astype(int)\n",
        "print(df_shelly_iz.head())"
      ]
    },
    {
      "cell_type": "code",
      "source": [
        "print(df_shelly_iz[df_shelly_iz['estado del aire'] == 1])"
      ],
      "metadata": {
        "colab": {
          "base_uri": "https://localhost:8080/"
        },
        "collapsed": true,
        "id": "E_eJEY-D0moE",
        "outputId": "d35ed634-deb5-4083-d8d2-e4a213cfe2e2"
      },
      "execution_count": null,
      "outputs": [
        {
          "output_type": "stream",
          "name": "stdout",
          "text": [
            "type             sensedAt       Fecha      Hora  potencia_A  estado del aire\n",
            "2801  2025-06-17 12:47:00  2025-06-17  12:47:00       28.43                1\n",
            "2802  2025-06-17 12:47:10  2025-06-17  12:47:10      124.57                1\n",
            "2803  2025-06-17 12:47:20  2025-06-17  12:47:20      136.60                1\n",
            "2804  2025-06-17 12:47:30  2025-06-17  12:47:30      152.91                1\n",
            "2805  2025-06-17 12:47:40  2025-06-17  12:47:40      183.30                1\n",
            "...                   ...         ...       ...         ...              ...\n",
            "14302 2025-06-18 20:45:20  2025-06-18  20:45:20      757.31                1\n",
            "14303 2025-06-18 20:45:30  2025-06-18  20:45:30      759.20                1\n",
            "14304 2025-06-18 20:45:40  2025-06-18  20:45:40       61.68                1\n",
            "14305 2025-06-18 20:45:50  2025-06-18  20:45:50       60.92                1\n",
            "14306 2025-06-18 20:46:00  2025-06-18  20:46:00       61.00                1\n",
            "\n",
            "[5136 rows x 5 columns]\n"
          ]
        }
      ]
    },
    {
      "cell_type": "markdown",
      "metadata": {
        "id": "fmqHHad0hqvQ"
      },
      "source": [
        "####Horario de clases / Creación de la tabla features"
      ]
    },
    {
      "cell_type": "markdown",
      "metadata": {
        "id": "eMrCXwdxPVls"
      },
      "source": [
        "##### Tabla features"
      ]
    },
    {
      "cell_type": "code",
      "execution_count": null,
      "metadata": {
        "colab": {
          "base_uri": "https://localhost:8080/"
        },
        "id": "GvpxVIXZyqc2",
        "outputId": "618607c5-dd3a-494c-98e5-3c54f1d9e53c"
      },
      "outputs": [
        {
          "output_type": "stream",
          "name": "stdout",
          "text": [
            "Filas con valores NaN:\n",
            "                 sensedAt       Fecha      Hora temp_interna_discretizada  \\\n",
            "0     2025-06-17 05:00:00  2025-06-17  05:00:00                       NaN   \n",
            "1     2025-06-17 05:00:07  2025-06-17  05:00:07                         1   \n",
            "2     2025-06-17 05:00:10  2025-06-17  05:00:10                       NaN   \n",
            "3     2025-06-17 05:00:15  2025-06-17  05:00:15                         1   \n",
            "4     2025-06-17 05:00:20  2025-06-17  05:00:20                       NaN   \n",
            "...                   ...         ...       ...                       ...   \n",
            "19324 2025-06-19 04:59:10  2025-06-19  04:59:10                       NaN   \n",
            "19325 2025-06-19 04:59:20  2025-06-19  04:59:20                       NaN   \n",
            "19326 2025-06-19 04:59:30  2025-06-19  04:59:30                       NaN   \n",
            "19327 2025-06-19 04:59:40  2025-06-19  04:59:40                       NaN   \n",
            "19328 2025-06-19 04:59:50  2025-06-19  04:59:50                       NaN   \n",
            "\n",
            "      temp_externa_discretizada  potencia_A  estado del aire  \n",
            "0                           NaN         0.0              0.0  \n",
            "1                           NaN         NaN              NaN  \n",
            "2                           NaN         0.0              0.0  \n",
            "3                           NaN         NaN              NaN  \n",
            "4                           NaN         0.0              0.0  \n",
            "...                         ...         ...              ...  \n",
            "19324                       NaN         0.0              0.0  \n",
            "19325                       NaN         0.0              0.0  \n",
            "19326                       NaN         0.0              0.0  \n",
            "19327                       NaN         0.0              0.0  \n",
            "19328                       NaN         0.0              0.0  \n",
            "\n",
            "[19329 rows x 7 columns]\n"
          ]
        }
      ],
      "source": [
        "# Merge progresivo\n",
        "merged_df = pd.merge(df_temperatura_interna, df_scaled_estMeteorologica.reset_index(), on=['Fecha', 'Hora'], how='outer')\n",
        "merged_df = pd.merge(merged_df, df_shelly_iz, on=['Fecha', 'Hora'], how='outer')\n",
        "\n",
        "# Crear columna sensedAt tomando la primera no nula\n",
        "merged_df['sensedAt_final'] = merged_df['sensedAt_x'].combine_first(\n",
        "    merged_df['sensedAt_y'].combine_first(\n",
        "        merged_df['sensedAt']\n",
        "    )\n",
        ")\n",
        "\n",
        "# Renombrar y reorganizar\n",
        "df_features = merged_df[[\n",
        "    'sensedAt_final', 'Fecha', 'Hora',\n",
        "    'temp_discretizada_x', 'temp_discretizada_y',\n",
        "    'potencia_A', 'estado del aire'\n",
        "]].rename(columns={\n",
        "    'sensedAt_final': 'sensedAt',\n",
        "    'temp_discretizada_x': 'temp_interna_discretizada',\n",
        "    'temp_discretizada_y': 'temp_externa_discretizada'\n",
        "})\n",
        "\n",
        "\n",
        "# Mostrar filas con NaN\n",
        "print(\"Filas con valores NaN:\")\n",
        "print(df_features[df_features.isna().any(axis=1)])"
      ]
    },
    {
      "cell_type": "markdown",
      "metadata": {
        "id": "q-ZSnx__PdDN"
      },
      "source": [
        "##### Horario de clase"
      ]
    },
    {
      "cell_type": "code",
      "execution_count": null,
      "metadata": {
        "id": "iwiriaYD3ad-"
      },
      "outputs": [],
      "source": [
        "# Limpieza inicial\n",
        "df_horario['Hora'] = df_horario['Hora'].str.strip()\n",
        "\n",
        "# Expandimos el rango de horas en una estructura más manejable\n",
        "def expand_range(row):\n",
        "    start, end = row['Hora'].split('-')\n",
        "    return pd.Series({\n",
        "        'start_time': pd.to_datetime(start, format='%H:%M').time(),\n",
        "        'end_time': pd.to_datetime(end, format='%H:%M').time()\n",
        "    })\n",
        "\n",
        "df_horario[['start_time', 'end_time']] = df_horario.apply(expand_range, axis=1)"
      ]
    },
    {
      "cell_type": "markdown",
      "metadata": {
        "id": "xR97Y08S498n"
      },
      "source": [
        "| Variable                         | Rango original        | Rango discretizado (niveles)                         | N niveles |\n",
        "| :------------------------------- | :-------------------- | :--------------------------------------------------- | :-------- |\n",
        "| Horario de clase del siguiente periodo | Booleano              | 0: fuera de clase, 1: en clase                       | 2         |"
      ]
    },
    {
      "cell_type": "code",
      "execution_count": null,
      "metadata": {
        "colab": {
          "base_uri": "https://localhost:8080/"
        },
        "id": "X3W6TOY9bgAk",
        "outputId": "2d56d03a-18ca-43e6-aea8-fef66df9f78b"
      },
      "outputs": [
        {
          "output_type": "stream",
          "name": "stdout",
          "text": [
            "\n",
            "DataFrame df_features con la nueva columna 'clases a continuación':\n",
            "             sensedAt       Fecha      Hora temp_interna_discretizada  \\\n",
            "0 2025-06-17 05:00:00  2025-06-17  05:00:00                       NaN   \n",
            "1 2025-06-17 05:00:07  2025-06-17  05:00:07                         1   \n",
            "2 2025-06-17 05:00:10  2025-06-17  05:00:10                       NaN   \n",
            "3 2025-06-17 05:00:15  2025-06-17  05:00:15                         1   \n",
            "4 2025-06-17 05:00:20  2025-06-17  05:00:20                       NaN   \n",
            "\n",
            "  temp_externa_discretizada  potencia_A  estado del aire  \\\n",
            "0                       NaN         0.0              0.0   \n",
            "1                       NaN         NaN              NaN   \n",
            "2                       NaN         0.0              0.0   \n",
            "3                       NaN         NaN              NaN   \n",
            "4                       NaN         0.0              0.0   \n",
            "\n",
            "   clases a continuación  \n",
            "0                      0  \n",
            "1                      0  \n",
            "2                      0  \n",
            "3                      0  \n",
            "4                      0  \n",
            "\n",
            "Filas donde 'clases a continuación' es 1:\n",
            "               sensedAt       Fecha      Hora temp_interna_discretizada  \\\n",
            "899 2025-06-17 07:01:00  2025-06-17  07:01:00                       NaN   \n",
            "900 2025-06-17 07:01:10  2025-06-17  07:01:10                       NaN   \n",
            "901 2025-06-17 07:01:20  2025-06-17  07:01:20                       NaN   \n",
            "902 2025-06-17 07:01:30  2025-06-17  07:01:30                       NaN   \n",
            "903 2025-06-17 07:01:40  2025-06-17  07:01:40                       NaN   \n",
            "\n",
            "    temp_externa_discretizada  potencia_A  estado del aire  \\\n",
            "899                       NaN         0.0              0.0   \n",
            "900                       NaN         0.0              0.0   \n",
            "901                       NaN         0.0              0.0   \n",
            "902                       NaN         0.0              0.0   \n",
            "903                       NaN         0.0              0.0   \n",
            "\n",
            "     clases a continuación  \n",
            "899                      1  \n",
            "900                      1  \n",
            "901                      1  \n",
            "902                      1  \n",
            "903                      1  \n"
          ]
        }
      ],
      "source": [
        "# Añadir la columna \"clases a continuación\"\n",
        "df_features['clases a continuación'] = 0  # Falso\n",
        "\n",
        "# Convertir la columna 'Hora' de df_features a objetos time para comparación\n",
        "df_features['Hora_time'] = df_features['Hora'].apply(lambda x: pd.to_datetime(str(x)).time())\n",
        "\n",
        "# Convertir la columna 'Fecha' de df_features a datetime para obtener el día de la semana\n",
        "df_features['Fecha_datetime'] = pd.to_datetime(df_features['Fecha'])\n",
        "\n",
        "# Iterar sobre cada fila de df_features\n",
        "for index, row in df_features.iterrows():\n",
        "    current_date = row['Fecha_datetime']\n",
        "    current_time = row['Hora_time']\n",
        "\n",
        "    # Obtener el nombre del día de la semana en español\n",
        "    day_of_week = current_date.strftime('%A')\n",
        "    # Mapear a los nombres de columnas en df_horario\n",
        "    day_mapping = {\n",
        "        'Monday': 'Lunes',\n",
        "        'Tuesday': 'Martes',\n",
        "        'Wednesday': 'Miércoles',\n",
        "        'Thursday': 'Jueves',\n",
        "        'Friday': 'Viernes',\n",
        "        'Saturday': None,  # No hay clases los sábados según el horario\n",
        "        'Sunday': None     # No hay clases los domingos según el horario\n",
        "    }\n",
        "    day_column = day_mapping.get(day_of_week)\n",
        "\n",
        "    if day_column is not None:\n",
        "        # Calcular el tiempo 30 minutos en el futuro\n",
        "        current_datetime = pd.to_datetime(f'{current_date.strftime(\"%Y-%m-%d\")} {current_time.strftime(\"%H:%M:%S\")}')\n",
        "        future_datetime = current_datetime + pd.Timedelta(minutes=tiempo)\n",
        "        future_time = future_datetime.time()\n",
        "\n",
        "        # Verificar si hay alguna entrada en df_horario en el rango [current_time, future_time]\n",
        "        # donde la actividad para el día de la semana sea 'Clases'\n",
        "        for hor_index, hor_row in df_horario.iterrows():\n",
        "            hor_start_time = hor_row['start_time']\n",
        "            hor_end_time = hor_row['end_time']\n",
        "            activity = hor_row[day_column]\n",
        "\n",
        "            # Convertir los objetos time a valores comparables como strings\n",
        "            # Esto es para manejar el caso en que future_time cruce la medianoche, aunque\n",
        "            # con un rango de 30 minutos es poco probable dentro del horario dado.\n",
        "            # Una comparación más robusta implicaría convertir a segundos desde medianoche.\n",
        "            # Sin embargo, para este rango y horario, una comparación simple de objetos time es suficiente.\n",
        "\n",
        "            # Verificar si el intervalo [current_time, future_time] se superpone con [hor_start_time, hor_end_time)\n",
        "            # Comprobamos la superposición considerando la ventana de 30 minutos.\n",
        "            # Una clase está \"a continuación\" si alguna parte de los próximos 30 minutos cae dentro de un bloque de clase.\n",
        "\n",
        "            # Simplificación: verificar si la hora actual o cualquier hora dentro de los próximos 30 minutos cae en un bloque de clase.\n",
        "            # Esto es equivalente a comprobar si los intervalos se superponen.\n",
        "\n",
        "            # La superposición existe si (inicio1 < fin2) y (inicio2 < fin1)\n",
        "            # Aquí: inicio1 = current_time, fin1 = future_time\n",
        "            #       inicio2 = hor_start_time, fin2 = hor_end_time\n",
        "\n",
        "            # Convertir horas a valores numéricos (por ejemplo, minutos desde medianoche)\n",
        "            current_minutes = current_time.hour * 60 + current_time.minute\n",
        "            future_minutes = future_time.hour * 60 + future_time.minute\n",
        "            hor_start_minutes = hor_start_time.hour * 60 + hor_start_time.minute\n",
        "            hor_end_minutes = hor_end_time.hour * 60 + hor_end_time.minute\n",
        "\n",
        "            # Manejar cruce de medianoche si future_time cruza las 00:00 (poco probable con solo 30 min)\n",
        "            if future_minutes < current_minutes:  # Cruzó medianoche\n",
        "                future_minutes += 24 * 60\n",
        "\n",
        "            # Manejar caso especial cuando end_time es 00:00 (se interpreta como fin del día)\n",
        "            # En este horario específico, los rangos están dentro de un solo día, así que no es estrictamente necesario.\n",
        "            # Pero para mayor robustez, si hor_end_minutes es 0, considerarlo como fin de día.\n",
        "\n",
        "            # Verificar superposición de los intervalos\n",
        "            # Nota: En definiciones típicas, el final del intervalo es exclusivo,\n",
        "            # pero el horario usa bloques fijos de 30 minutos. Supondremos [inicio, fin] por simplicidad,\n",
        "            # lo que implica que si una clase termina a las 8:00, cubre hasta las 8:00.\n",
        "            # Una suposición segura para \"a continuación\" es si el bloque de 30 min se cruza con cualquier clase.\n",
        "\n",
        "            # Verificar si una clase inicia dentro de los próximos 30 minutos,\n",
        "            # o si la hora actual ya está dentro de una clase que se extiende más allá.\n",
        "\n",
        "            # Escenario 1: Una clase empieza dentro de los próximos 30 minutos.\n",
        "            if current_minutes <= hor_start_minutes < future_minutes:\n",
        "                if activity == 'Clases':\n",
        "                    df_features.at[index, 'clases a continuación'] = 1  # Verdadero\n",
        "                    break  # No es necesario verificar otras filas del horario\n",
        "\n",
        "            # Escenario 2: La hora actual está dentro de una clase que continúa durante los próximos 30 minutos.\n",
        "            if hor_start_minutes <= current_minutes < hor_end_minutes:\n",
        "                if activity == 'Clases':\n",
        "                    df_features.at[index, 'clases a continuación'] = 1  # Verdadero\n",
        "                    break  # No es necesario verificar otras filas del horario\n",
        "\n",
        "# Eliminar las columnas temporales si ya no se necesitan\n",
        "df_features.drop(columns=['Hora_time', 'Fecha_datetime'], inplace=True)\n",
        "\n",
        "# Mostrar las primeras filas del DataFrame con la nueva columna\n",
        "print(\"\\nDataFrame df_features con la nueva columna 'clases a continuación':\")\n",
        "print(df_features.head())\n",
        "\n",
        "# Opcional: Mostrar algunas filas donde 'clases a continuación' sea 1 para verificación\n",
        "print(\"\\nFilas donde 'clases a continuación' es 1:\")\n",
        "print(df_features[df_features['clases a continuación'] == 1].head())\n"
      ]
    },
    {
      "cell_type": "markdown",
      "metadata": {
        "id": "e4xDPYALa1jG"
      },
      "source": [
        "###Variables simuladas"
      ]
    },
    {
      "cell_type": "markdown",
      "metadata": {
        "id": "UijOARdc5Hk5"
      },
      "source": [
        "| Variable                         | Rango original        | Rango discretizado (niveles)                         | N niveles |\n",
        "| :------------------------------- | :-------------------- | :--------------------------------------------------- | :-------- |\n",
        "| Número de personas               | 0 a 20                | 0: 0, 1: 1-10, 2: 10-20                              | 3         |\n",
        "| Ubicación relativa (por cercanía a ventila) | variable espacial     | 0: dispersas, 1: agrupadas cerca de ventilación, 2: agrupadas lejos | 3         |\n",
        "| Panel de opinión térmica         | 0 a 5                 | 0: muy fría (0-1), 1: neutra (2-3), 2: muy calurosa (4-5) | 3         |"
      ]
    },
    {
      "cell_type": "code",
      "execution_count": null,
      "metadata": {
        "id": "jl1fuIDvbigw"
      },
      "outputs": [],
      "source": [
        "np.random.seed(42)\n",
        "\n",
        "df_features['n_people'] = np.random.choice([0, 1, 2], size=len(df_features), p=[0.3, 0.5, 0.2])\n",
        "df_features['location'] = np.random.choice([0, 1, 2], size=len(df_features), p=[0.5, 0.25, 0.25])\n",
        "df_features['thermal_opinion'] = np.random.choice([0, 1, 2], size=len(df_features), p=[0.2, 0.6, 0.2])"
      ]
    },
    {
      "cell_type": "markdown",
      "metadata": {
        "id": "jHE8oe1L5f1B"
      },
      "source": [
        "## Tabla features"
      ]
    },
    {
      "cell_type": "code",
      "source": [
        "print(df_features.head())"
      ],
      "metadata": {
        "colab": {
          "base_uri": "https://localhost:8080/"
        },
        "id": "JBRhu2__nqZ4",
        "outputId": "824bb792-2806-43f9-8e1e-1a86adb8fa72"
      },
      "execution_count": null,
      "outputs": [
        {
          "output_type": "stream",
          "name": "stdout",
          "text": [
            "             sensedAt       Fecha      Hora temp_interna_discretizada  \\\n",
            "0 2025-06-17 05:00:00  2025-06-17  05:00:00                       NaN   \n",
            "1 2025-06-17 05:00:07  2025-06-17  05:00:07                         1   \n",
            "2 2025-06-17 05:00:10  2025-06-17  05:00:10                       NaN   \n",
            "3 2025-06-17 05:00:15  2025-06-17  05:00:15                         1   \n",
            "4 2025-06-17 05:00:20  2025-06-17  05:00:20                       NaN   \n",
            "\n",
            "  temp_externa_discretizada  potencia_A  estado del aire  \\\n",
            "0                       NaN         0.0              0.0   \n",
            "1                       NaN         NaN              NaN   \n",
            "2                       NaN         0.0              0.0   \n",
            "3                       NaN         NaN              NaN   \n",
            "4                       NaN         0.0              0.0   \n",
            "\n",
            "   clases a continuación  n_people  location  thermal_opinion  \n",
            "0                      0         1         0                1  \n",
            "1                      0         2         0                1  \n",
            "2                      0         1         2                2  \n",
            "3                      0         1         1                1  \n",
            "4                      0         0         2                2  \n"
          ]
        }
      ]
    },
    {
      "cell_type": "code",
      "source": [
        "df_features = df_features.drop(columns=['potencia_A'])"
      ],
      "metadata": {
        "id": "OlzfcbFUnt1z"
      },
      "execution_count": null,
      "outputs": []
    },
    {
      "cell_type": "code",
      "source": [
        "# Imputación con la moda para columnas categóricas/discretas\n",
        "for col in df_features.columns:\n",
        "    if df_features[col].isna().any():\n",
        "        moda = df_features[col].mode()[0]\n",
        "        df_features[col] = df_features[col].fillna(moda)"
      ],
      "metadata": {
        "id": "ZEA18o2Nne4c"
      },
      "execution_count": null,
      "outputs": []
    },
    {
      "cell_type": "code",
      "execution_count": null,
      "metadata": {
        "colab": {
          "base_uri": "https://localhost:8080/"
        },
        "id": "uKdWXpF15iAR",
        "outputId": "958598f3-95bf-46e1-da98-cb5daa66f67a"
      },
      "outputs": [
        {
          "output_type": "stream",
          "name": "stdout",
          "text": [
            "             sensedAt       Fecha      Hora temp_interna_discretizada  \\\n",
            "0 2025-06-17 05:00:00  2025-06-17  05:00:00                         1   \n",
            "1 2025-06-17 05:00:07  2025-06-17  05:00:07                         1   \n",
            "2 2025-06-17 05:00:10  2025-06-17  05:00:10                         1   \n",
            "3 2025-06-17 05:00:15  2025-06-17  05:00:15                         1   \n",
            "4 2025-06-17 05:00:20  2025-06-17  05:00:20                         1   \n",
            "\n",
            "  temp_externa_discretizada  estado del aire  clases a continuación  n_people  \\\n",
            "0                         0              0.0                      0         1   \n",
            "1                         0              0.0                      0         2   \n",
            "2                         0              0.0                      0         1   \n",
            "3                         0              0.0                      0         1   \n",
            "4                         0              0.0                      0         0   \n",
            "\n",
            "   location  thermal_opinion                                state  \n",
            "0         0                1  (1.0, 1.0, 0.0, 1.0, 0.0, 0.0, 0.0)  \n",
            "1         0                1  (1.0, 2.0, 0.0, 1.0, 0.0, 0.0, 0.0)  \n",
            "2         2                2  (1.0, 1.0, 2.0, 2.0, 0.0, 0.0, 0.0)  \n",
            "3         1                1  (1.0, 1.0, 1.0, 1.0, 0.0, 0.0, 0.0)  \n",
            "4         2                2  (1.0, 0.0, 2.0, 2.0, 0.0, 0.0, 0.0)  \n"
          ]
        }
      ],
      "source": [
        "df_features['state'] = df_features[[\n",
        "    'temp_interna_discretizada',\n",
        "    'n_people',\n",
        "    'location',\n",
        "    'thermal_opinion',\n",
        "    'clases a continuación',\n",
        "    'temp_externa_discretizada',\n",
        "    'estado del aire'\n",
        "]].apply(tuple, axis=1)\n",
        "\n",
        "print(df_features.head())"
      ]
    },
    {
      "cell_type": "code",
      "execution_count": null,
      "metadata": {
        "colab": {
          "base_uri": "https://localhost:8080/"
        },
        "id": "0895sUG16lmG",
        "outputId": "7ca75d49-717f-425c-b170-863419bcf9b2"
      },
      "outputs": [
        {
          "output_type": "stream",
          "name": "stdout",
          "text": [
            "0        (1.0, 1.0, 0.0, 1.0, 0.0, 0.0, 0.0)\n",
            "1        (1.0, 2.0, 0.0, 1.0, 0.0, 0.0, 0.0)\n",
            "2        (1.0, 1.0, 2.0, 2.0, 0.0, 0.0, 0.0)\n",
            "3        (1.0, 1.0, 1.0, 1.0, 0.0, 0.0, 0.0)\n",
            "4        (1.0, 0.0, 2.0, 2.0, 0.0, 0.0, 0.0)\n",
            "                        ...                 \n",
            "19324    (1.0, 0.0, 2.0, 2.0, 0.0, 0.0, 0.0)\n",
            "19325    (1.0, 2.0, 2.0, 0.0, 0.0, 0.0, 0.0)\n",
            "19326    (1.0, 0.0, 1.0, 1.0, 0.0, 0.0, 0.0)\n",
            "19327    (1.0, 1.0, 0.0, 0.0, 0.0, 0.0, 0.0)\n",
            "19328    (1.0, 0.0, 0.0, 2.0, 0.0, 0.0, 0.0)\n",
            "Name: state, Length: 19329, dtype: object\n"
          ]
        }
      ],
      "source": [
        "print(df_features['state'])"
      ]
    },
    {
      "cell_type": "code",
      "source": [
        "print(df_features[df_features['estado del aire'] == 1])"
      ],
      "metadata": {
        "colab": {
          "base_uri": "https://localhost:8080/"
        },
        "id": "0h6133zc00-V",
        "outputId": "f0730271-3255-4168-dea6-19bab171e411"
      },
      "execution_count": null,
      "outputs": [
        {
          "output_type": "stream",
          "name": "stdout",
          "text": [
            "                 sensedAt       Fecha      Hora temp_interna_discretizada  \\\n",
            "3471  2025-06-17 12:47:00  2025-06-17  12:47:00                         1   \n",
            "3473  2025-06-17 12:47:10  2025-06-17  12:47:10                         1   \n",
            "3474  2025-06-17 12:47:20  2025-06-17  12:47:20                         1   \n",
            "3475  2025-06-17 12:47:30  2025-06-17  12:47:30                         1   \n",
            "3476  2025-06-17 12:47:40  2025-06-17  12:47:40                         1   \n",
            "...                   ...         ...       ...                       ...   \n",
            "16368 2025-06-18 20:45:20  2025-06-18  20:45:20                         1   \n",
            "16369 2025-06-18 20:45:30  2025-06-18  20:45:30                         1   \n",
            "16370 2025-06-18 20:45:40  2025-06-18  20:45:40                         1   \n",
            "16371 2025-06-18 20:45:50  2025-06-18  20:45:50                         1   \n",
            "16372 2025-06-18 20:46:00  2025-06-18  20:46:00                         1   \n",
            "\n",
            "      temp_externa_discretizada  estado del aire  clases a continuación  \\\n",
            "3471                          0              1.0                      1   \n",
            "3473                          0              1.0                      1   \n",
            "3474                          0              1.0                      1   \n",
            "3475                          0              1.0                      1   \n",
            "3476                          0              1.0                      1   \n",
            "...                         ...              ...                    ...   \n",
            "16368                         0              1.0                      0   \n",
            "16369                         0              1.0                      0   \n",
            "16370                         0              1.0                      0   \n",
            "16371                         0              1.0                      0   \n",
            "16372                         0              1.0                      0   \n",
            "\n",
            "       n_people  location  thermal_opinion  \\\n",
            "3471          1         0                1   \n",
            "3473          1         1                2   \n",
            "3474          2         1                1   \n",
            "3475          2         2                0   \n",
            "3476          2         1                1   \n",
            "...         ...       ...              ...   \n",
            "16368         1         2                1   \n",
            "16369         0         2                2   \n",
            "16370         1         2                1   \n",
            "16371         1         0                1   \n",
            "16372         1         0                1   \n",
            "\n",
            "                                     state  \n",
            "3471   (1.0, 1.0, 0.0, 1.0, 1.0, 0.0, 1.0)  \n",
            "3473   (1.0, 1.0, 1.0, 2.0, 1.0, 0.0, 1.0)  \n",
            "3474   (1.0, 2.0, 1.0, 1.0, 1.0, 0.0, 1.0)  \n",
            "3475   (1.0, 2.0, 2.0, 0.0, 1.0, 0.0, 1.0)  \n",
            "3476   (1.0, 2.0, 1.0, 1.0, 1.0, 0.0, 1.0)  \n",
            "...                                    ...  \n",
            "16368  (1.0, 1.0, 2.0, 1.0, 0.0, 0.0, 1.0)  \n",
            "16369  (1.0, 0.0, 2.0, 2.0, 0.0, 0.0, 1.0)  \n",
            "16370  (1.0, 1.0, 2.0, 1.0, 0.0, 0.0, 1.0)  \n",
            "16371  (1.0, 1.0, 0.0, 1.0, 0.0, 0.0, 1.0)  \n",
            "16372  (1.0, 1.0, 0.0, 1.0, 0.0, 0.0, 1.0)  \n",
            "\n",
            "[5136 rows x 11 columns]\n"
          ]
        }
      ]
    },
    {
      "cell_type": "markdown",
      "metadata": {
        "id": "KhVhG7G0I1SO"
      },
      "source": [
        "#Código de Qlearning"
      ]
    },
    {
      "cell_type": "markdown",
      "metadata": {
        "id": "zdtlHJDZ5WSf"
      },
      "source": [
        "Para adaptar tu código de Q-learning a este nuevo problema de control térmico, lo que necesitas es redefinir el entorno GridWorld como un entorno de control térmico discreto, donde:\n",
        "\n",
        "Cada estado es una combinación de las 7 variables discretizadas.\n",
        "\n",
        "Las acciones son las 5 decisiones de control térmico.\n",
        "\n",
        "Las recompensas se asignan según el resultado térmico deseado.\n",
        "\n",
        "| Variable                  | Niveles |\n",
        "| ------------------------- | ------- |\n",
        "| Temperatura interna       | 3       |\n",
        "| Número de personas        | 3       |\n",
        "| Ubicación relativa        | 3       |\n",
        "| Opinión térmica           | 3       |\n",
        "| Horario de clase          | 2       |\n",
        "| Temperatura externa       | 3       |\n",
        "| Estado aire acondicionado | 2       |\n",
        "\n",
        "\n",
        "Sistema de recompensas:\n",
        "\n",
        "2: el ambiente es confortable tras la acción (temperatura media, opinión neutra).\n",
        "\n",
        "1: mejora parcial.\n",
        "\n",
        "0: sin efecto relevante.\n",
        "\n",
        "-1: estado térmico incómodo.\n",
        "\n",
        "###(reemplazo de GridWorld)\n",
        "Crea una clase tipo ThermalEnv con métodos:\n",
        "\n",
        "get_actions(state) → lista de 5 acciones posibles.\n",
        "\n",
        "get_next_state(state, action) → simula el nuevo estado.\n",
        "\n",
        "get_reward(state, action, next_state) → función de recompensa.\n",
        "\n",
        "is_terminal(state) → opcional, si se desea limitar duración.\n",
        "\n"
      ]
    },
    {
      "cell_type": "code",
      "execution_count": null,
      "metadata": {
        "id": "33659853"
      },
      "outputs": [],
      "source": [
        "import numpy as np\n",
        "import random\n",
        "from itertools import product\n",
        "\n",
        "ACTIONS = {\n",
        "    0: \"Prender ventilación\",\n",
        "    1: \"Bajar temperatura\",\n",
        "    2: \"No hacer nada\",\n",
        "    3: \"Subir temperatura\",\n",
        "    4: \"Apagar ventilación\"\n",
        "}\n",
        "n_actions = len(ACTIONS)\n"
      ]
    },
    {
      "cell_type": "code",
      "execution_count": null,
      "metadata": {
        "id": "DvLQ9gUEPLfi"
      },
      "outputs": [],
      "source": [
        "class ThermalEnv:\n",
        "    def __init__(self, reward_table=None):\n",
        "        self.state_space = list(product(range(3),  # temp_int\n",
        "                                        range(3),  # n_people\n",
        "                                        range(3),  # location\n",
        "                                        range(3),  # thermal_opinion\n",
        "                                        range(2),  # schedule\n",
        "                                        range(3),  # temp_ext\n",
        "                                        range(2))) # ac_status\n",
        "        self.actions = [0, 1, 2, 3, 4]\n",
        "        self.valid_states = [s for s in self.state_space if self.is_valid_state(s)]\n",
        "        self.current_state = None\n",
        "        self.reward_table = reward_table # Add reward_table as an attribute\n",
        "\n",
        "    def is_valid_state(self, state):\n",
        "        temp_int, n_people, location, opinion, schedule, temp_ext, ac_status = state\n",
        "\n",
        "        # Regla 1: Sin personas → no hay ubicación ni opinión\n",
        "        if n_people == 0:\n",
        "            if location != 0:\n",
        "                return False\n",
        "            if opinion != 1:  # Neutral\n",
        "                return False\n",
        "\n",
        "        # Regla 2: Frío interno y externo → no puede sentir calor\n",
        "        if temp_int == 0 and temp_ext == 0 and opinion == 2:\n",
        "            return False\n",
        "\n",
        "        # Regla 3: Calor interno y externo → no puede sentir frío\n",
        "        if temp_int == 2 and temp_ext == 2 and opinion == 0:\n",
        "            return False\n",
        "\n",
        "        return True\n",
        "\n",
        "\n",
        "\n",
        "    def reset(self):\n",
        "        # 30% de las veces, elige un estado sin personas ni clases\n",
        "        if random.random() < 0.3:\n",
        "            candidatos = [s for s in self.valid_states if s[1] == 0 and s[4] == 0]\n",
        "            if candidatos:\n",
        "                self.current_state = random.choice(candidatos)\n",
        "                return self.current_state\n",
        "\n",
        "        # En los otros casos, elige un estado aleatorio normal\n",
        "        self.current_state = random.choice(self.valid_states)\n",
        "        return self.current_state\n",
        "\n",
        "\n",
        "    def get_actions(self, state):\n",
        "        temp_int, n_people, location, opinion, schedule, temp_ext, ac_status = state\n",
        "        if n_people == 0 and schedule == 0:\n",
        "            return [4] if ac_status == 1 else [2]\n",
        "        return self.actions.copy()\n",
        "\n",
        "    def step(self, state, action):\n",
        "        temp_int, n_people, location, opinion, schedule, temp_ext, ac_status = state\n",
        "\n",
        "        if action == 0:\n",
        "            ac_status = 1\n",
        "        elif action == 1:\n",
        "            temp_int = max(0, temp_int - 1)\n",
        "        elif action == 3:\n",
        "            temp_int = min(2, temp_int + 1)\n",
        "        elif action == 4:\n",
        "            ac_status = 0\n",
        "\n",
        "        # The transition logic for opinion should ideally be based on the action and current state.\n",
        "        # For now, keeping the random transition as in the original code, but note this is a simplification.\n",
        "        if temp_int == 0 and temp_ext == 0:\n",
        "            opinion = random.choice([0, 1])\n",
        "        elif temp_int == 2 and temp_ext == 2:\n",
        "            opinion = random.choice([1, 2])\n",
        "        else:\n",
        "            opinion = random.randint(0, 2)\n",
        "\n",
        "        next_state = (temp_int, n_people, location, opinion, schedule, temp_ext, ac_status)\n",
        "        # Ensure the next state is valid after an action\n",
        "        # This loop can potentially run infinitely if no valid state is reachable.\n",
        "        # A more robust approach might be to redefine transitions or handle invalid states differently.\n",
        "        attempts = 0\n",
        "        while not self.is_valid_state(next_state) and attempts < 10:\n",
        "            opinion = random.randint(0, 2)\n",
        "            next_state = (temp_int, n_people, location, opinion, schedule, temp_ext, ac_status)\n",
        "            attempts += 1\n",
        "\n",
        "        # Forzar a un estado válido si fue imposible encontrar uno por azar\n",
        "        if not self.is_valid_state(next_state):\n",
        "            if n_people == 0:\n",
        "                location = 0\n",
        "                opinion = 1\n",
        "            elif temp_int == 0 and temp_ext == 0:\n",
        "                opinion = random.choice([0, 1])  # solo frío o neutral\n",
        "            elif temp_int == 2 and temp_ext == 2:\n",
        "                opinion = random.choice([1, 2])  # solo calor o neutral\n",
        "            else:\n",
        "                opinion = 1  # neutro por defecto\n",
        "\n",
        "            next_state = (temp_int, n_people, location, opinion, schedule, temp_ext, ac_status)\n",
        "\n",
        "        reward = self.compute_reward(state, action, next_state)\n",
        "        return next_state, reward\n",
        "\n",
        "\n",
        "    def compute_reward(self, state, action, next_state):\n",
        "        # Use the provided reward table if it exists\n",
        "        if self.reward_table is not None:\n",
        "            # Assuming the reward table is a dictionary mapping (state, action, next_state) to reward\n",
        "            # Or a simpler structure if the reward only depends on (state, action) or next_state\n",
        "            # For this example, let's assume the reward is based on the next_state and action\n",
        "            # A more complex table could be used if needed.\n",
        "            try:\n",
        "                 # Example: If reward_table is a dict mapping (next_state, action) to reward\n",
        "                 return self.reward_table.get((next_state, action), 0) # Default to 0 if not in table\n",
        "            except TypeError:\n",
        "                # Handle cases where reward might only depend on next_state if table structure is different\n",
        "                try:\n",
        "                    return self.reward_table.get(next_state, 0)\n",
        "                except:\n",
        "                     # Fallback or error handling if the table structure is unexpected\n",
        "                     print(\"Warning: Could not retrieve reward from provided table. Using default.\")\n",
        "                     pass # Fallback to simplified reward if table lookup fails\n",
        "\n",
        "\n",
        "        # Simplified reward function based on thermal opinion (used if reward_table is None or lookup fails)\n",
        "        temp_int, n_people, location, opinion, schedule, temp_ext, ac_status = next_state\n",
        "\n",
        "        # ✅ Regla 0: No se puede subir o bajar la temperatura si el aire no está\n",
        "        # encendido primero o apagar si ya está apagado o prender si ya está prendido\n",
        "        if (ac_status == 0 and action in [1, 3, 4]) or (ac_status == 1 and action == 0):\n",
        "            #print(\"Regla 0, reward: -2\")\n",
        "            return -2\n",
        "\n",
        "        # ✅ Regla 1: No hay personas ni clases → apagar o mantener apagado el AC\n",
        "        if n_people == 0 and schedule == 0:\n",
        "            if (ac_status == 1 and action == 4) or (ac_status == 0 and action == 2):\n",
        "                #print(\"Regla 1, reward: 2\")\n",
        "                return 1\n",
        "            else:\n",
        "                #print(\"Regla 1, reward: -2\")\n",
        "                return -1\n",
        "\n",
        "        # ✅ Regla 2: Si en 30 minutos hay clase y hace calor → El aire debe estar\n",
        "        # encendido, manternerse encendido o bajar la temperatura\n",
        "        if schedule == 1 and temp_int == 2:\n",
        "            if (ac_status == 1 and action in [1, 2]) or (ac_status == 0 and action == 0):\n",
        "              if temp_ext == 2:\n",
        "                #print(\"Regla 2, reward: 2\")\n",
        "                return 1\n",
        "              #print(\"Regla 2, reward: 1\")\n",
        "              return 1\n",
        "\n",
        "        # ✅ Regla 3: Está muy caliente, temperatura alta  → El aire debe estar\n",
        "        # encendido, manternerse encendido o bajar la temperatura\n",
        "        if opinion == 2 and temp_int == 2:\n",
        "          if (ac_status == 1 and action in [1, 2]) or (ac_status == 0 and action == 0):\n",
        "              if temp_ext == 2:\n",
        "                #print(\"Regla 3 reward: 2\")\n",
        "                return 1\n",
        "              #print(\"Regla 3, reward: 1\")\n",
        "              return 1\n",
        "\n",
        "\n",
        "        # ✅ Regla 4: Está muy frío, temperatura baja  → El aire debe estar\n",
        "        # apagado, manternerse apagado o subir la temperatura\n",
        "        if opinion == 0 and temp_int == 0:\n",
        "            if (ac_status == 1 and  action in [3, 4]) or (ac_status == 0 and action == 2):\n",
        "              if temp_ext == 0:\n",
        "                #print(\"Regla 4, reward: 2\")\n",
        "                return 1\n",
        "              #print(\"Regla 4, reward: 1\")\n",
        "              return 1\n",
        "\n",
        "\n",
        "        # ✅ Regla 5: Opinión térmica es cómoda\n",
        "        if opinion == 1: # Neutral/Comfortable\n",
        "            #print(\"Regla 5, reward: 1\")\n",
        "            return 1\n",
        "        elif opinion == 0: # Too Cold\n",
        "            #print(\"Regla 5, reward: 0\")\n",
        "            return 0\n",
        "        elif opinion == 2: # Too Hot\n",
        "            #print(\"Regla 5, reward: -1\")\n",
        "            return -1\n",
        "\n",
        "        return 0\n",
        "\n",
        "\n",
        "    def get_all_states(self):\n",
        "        return self.valid_states\n",
        "\n",
        "    def get_all_actions(self):\n",
        "        return list(ACTIONS.keys())"
      ]
    },
    {
      "cell_type": "code",
      "execution_count": null,
      "metadata": {
        "id": "ssq-XdN5-Oxa"
      },
      "outputs": [],
      "source": [
        "from copy import deepcopy\n",
        "from collections import defaultdict\n",
        "import statistics\n",
        "\n",
        "estado_visitas = defaultdict(int)\n",
        "\n",
        "def q_learning_thermal(rng, env, n_episodes=2000, max_moves=10,\n",
        "                       initial_eps=1.0, final_eps=0.05, decay_rate=0.99,\n",
        "                       alpha=0.1, gamma=0.9, q_table=None):\n",
        "\n",
        "\n",
        "    if q_table is None:\n",
        "        q_table = defaultdict(lambda: np.zeros(len(env.get_all_actions())))\n",
        "    else:\n",
        "        q_table = defaultdict(lambda: np.zeros(len(env.get_all_actions())), q_table)\n",
        "        print(\"Se usa la tabla ingresada en el parametro\")\n",
        "\n",
        "    q_tables_by_episode = []\n",
        "    rewards_per_episode = []\n",
        "    td_errors_per_episode = []\n",
        "    eps_per_episode = []\n",
        "\n",
        "    for epi in range(n_episodes):\n",
        "        total_reward = 0\n",
        "        total_td_error = []\n",
        "        #eps debe ir cayendo\n",
        "        eps = max(final_eps, initial_eps * (decay_rate ** epi)) #print a la parte de explorar y explotar y un contador\n",
        "        eps_per_episode.append(eps)\n",
        "        #explorar bastante y explotar lo que ya se tiene grabado\n",
        "        #estudiar bien esta función max(final_eps, initial_eps * (decay_rate ** epi))\n",
        "        #10000 episodios para ver que sale\n",
        "\n",
        "        ##### Inicializar S ##############################\n",
        "        state = env.reset()\n",
        "\n",
        "        ##### Repetir para cada paso del episodio ##############################\n",
        "        for _ in range(max_moves): #Pasos del episodio si nada sale bien poner 20\n",
        "\n",
        "        ##### Escoger A de S usando la política e-greedy ##############################\n",
        "            actions = env.get_actions(state)\n",
        "            if rng.random() < eps: #explorar\n",
        "                action = rng.choice(actions)\n",
        "            else: #explotar\n",
        "                q_values = q_table[state]\n",
        "                action = actions[np.argmax([q_values[a] for a in actions])]\n",
        "\n",
        "        ##### Tomar una acción A y observar S' y R (estado siguiente y recompensa) ##############################\n",
        "            next_state, reward = env.step(state, action)\n",
        "            total_reward += reward\n",
        "\n",
        "\n",
        "        ##### Actualizar tabla Q ##############################\n",
        "            # Q-learning update\n",
        "            next_actions = env.get_actions(next_state) #\n",
        "            max_next_q = max([q_table[next_state][a] for a in next_actions]) if next_actions else 0\n",
        "\n",
        "            td = reward + gamma * max_next_q - q_table[state][action]\n",
        "            #print(td)\n",
        "\n",
        "            #SARSA: reward + gamma * next_q - q_table[state][action]\n",
        "            q_table[state][action] += alpha * td\n",
        "        ##### S <- S' ##############################\n",
        "            state = next_state\n",
        "            total_td_error.append(abs(td))\n",
        "\n",
        "\n",
        "        # Guardar copia para analizar evolución\n",
        "        q_tables_by_episode.append(q_table.copy())\n",
        "        rewards_per_episode.append(total_reward)\n",
        "        td_errors_per_episode.append(sum(total_td_error)/len(total_td_error))\n",
        "\n",
        "    # Derivar la política final\n",
        "    pi = {state: np.argmax(q_table[state]) for state in q_table}\n",
        "\n",
        "\n",
        "\n",
        "    ################## Fuera del aprendizaje ###############################\n",
        "    plt.figure()\n",
        "    plt.plot(eps_per_episode)\n",
        "    plt.title(\"e - greedy\")\n",
        "    plt.xlabel(\"Episodio\")\n",
        "    plt.ylabel(\"EPS\")\n",
        "    plt.grid(True)\n",
        "    plt.show()\n",
        "\n",
        "\n",
        "    ################## Fin de la gráfica de eps #######################################################\n",
        "\n",
        "    return pi, q_table, q_tables_by_episode, rewards_per_episode, td_errors_per_episode\n"
      ]
    },
    {
      "cell_type": "markdown",
      "source": [
        "###Funciones"
      ],
      "metadata": {
        "id": "89EeywrxXCjk"
      }
    },
    {
      "cell_type": "markdown",
      "metadata": {
        "id": "A5dYM5S-W_vP"
      },
      "source": [
        "\n",
        "    \"\"\"\n",
        "    Q-Learning adaptado para ThermalEnv.\n",
        "\n",
        "    Parámetros:\n",
        "    - rng: generador aleatorio\n",
        "    - env: instancia de ThermalEnv\n",
        "    - n_episodes: número de episodios de entrenamiento\n",
        "    - max_moves: número máximo de pasos por episodio\n",
        "    - eps: epsilon para la política epsilon-greedy\n",
        "    - alpha: tasa de aprendizaje\n",
        "    - gamma: factor de descuento\n",
        "\n",
        "    Retorna:\n",
        "    - pi: política óptima aprendida\n",
        "    - q_table: tabla Q final\n",
        "    \"\"\""
      ]
    },
    {
      "cell_type": "markdown",
      "metadata": {
        "id": "l_CEqQ35KuyY"
      },
      "source": [
        "state: [0.0 for _ in range(n_actions)]: Esta es una comprensión de diccionario que itera a través de cada state en el state_space. Para cada estado, crea una lista de ceros. La longitud de esta lista está determinada por n_actions, que representa el número de acciones posibles en tu entorno.\n",
        "for state in state_space: Esta parte itera sobre todos los estados posibles definidos en el state_space de tu entorno.\n",
        "En esencia, el código está configurando una tabla donde cada fila corresponde a un estado único en tu entorno y cada columna corresponde a una acción posible. Los valores en la tabla, inicialmente todos ceros, se actualizarán durante el proceso de Q-learning para representar la recompensa futura estimada por tomar una acción específica en un estado específico."
      ]
    },
    {
      "cell_type": "code",
      "execution_count": null,
      "metadata": {
        "colab": {
          "base_uri": "https://localhost:8080/"
        },
        "id": "lq3bW5Z5NGKZ",
        "outputId": "0afe6f28-70c5-4d1c-96cd-520c6aa353bc"
      },
      "outputs": [
        {
          "output_type": "stream",
          "name": "stdout",
          "text": [
            "{(1.0, 1.0, 0.0, 1.0, 0.0, 0.0, 0.0): [0.0, 0.0, 0.0, 0.0, 0.0], (1.0, 2.0, 0.0, 1.0, 0.0, 0.0, 0.0): [0.0, 0.0, 0.0, 0.0, 0.0], (1.0, 1.0, 2.0, 2.0, 0.0, 0.0, 0.0): [0.0, 0.0, 0.0, 0.0, 0.0], (1.0, 1.0, 1.0, 1.0, 0.0, 0.0, 0.0): [0.0, 0.0, 0.0, 0.0, 0.0], (1.0, 0.0, 2.0, 2.0, 0.0, 0.0, 0.0): [0.0, 0.0, 0.0, 0.0, 0.0], (1.0, 0.0, 1.0, 1.0, 0.0, 0.0, 0.0): [0.0, 0.0, 0.0, 0.0, 0.0], (1.0, 0.0, 2.0, 0.0, 0.0, 0.0, 0.0): [0.0, 0.0, 0.0, 0.0, 0.0], (2.0, 2.0, 1.0, 1.0, 0.0, 0.0, 0.0): [0.0, 0.0, 0.0, 0.0, 0.0], (1.0, 1.0, 1.0, 2.0, 0.0, 0.0, 0.0): [0.0, 0.0, 0.0, 0.0, 0.0], (1.0, 0.0, 0.0, 1.0, 0.0, 0.0, 0.0): [0.0, 0.0, 0.0, 0.0, 0.0], (1.0, 2.0, 2.0, 0.0, 0.0, 0.0, 0.0): [0.0, 0.0, 0.0, 0.0, 0.0], (1.0, 2.0, 1.0, 1.0, 0.0, 0.0, 0.0): [0.0, 0.0, 0.0, 0.0, 0.0], (1.0, 0.0, 2.0, 1.0, 0.0, 0.0, 0.0): [0.0, 0.0, 0.0, 0.0, 0.0], (1.0, 0.0, 1.0, 0.0, 0.0, 0.0, 0.0): [0.0, 0.0, 0.0, 0.0, 0.0], (1.0, 1.0, 2.0, 1.0, 0.0, 0.0, 0.0): [0.0, 0.0, 0.0, 0.0, 0.0], (1.0, 0.0, 0.0, 2.0, 0.0, 0.0, 0.0): [0.0, 0.0, 0.0, 0.0, 0.0], (1.0, 1.0, 0.0, 2.0, 0.0, 0.0, 0.0): [0.0, 0.0, 0.0, 0.0, 0.0], (1.0, 1.0, 2.0, 0.0, 0.0, 0.0, 0.0): [0.0, 0.0, 0.0, 0.0, 0.0], (2.0, 1.0, 0.0, 2.0, 0.0, 0.0, 0.0): [0.0, 0.0, 0.0, 0.0, 0.0], (1.0, 2.0, 1.0, 2.0, 0.0, 0.0, 0.0): [0.0, 0.0, 0.0, 0.0, 0.0], (1.0, 2.0, 0.0, 0.0, 0.0, 0.0, 0.0): [0.0, 0.0, 0.0, 0.0, 0.0], (1.0, 1.0, 0.0, 0.0, 0.0, 0.0, 0.0): [0.0, 0.0, 0.0, 0.0, 0.0], (1.0, 2.0, 0.0, 2.0, 0.0, 0.0, 0.0): [0.0, 0.0, 0.0, 0.0, 0.0], (2.0, 2.0, 0.0, 1.0, 0.0, 0.0, 0.0): [0.0, 0.0, 0.0, 0.0, 0.0], (1.0, 2.0, 2.0, 1.0, 0.0, 0.0, 0.0): [0.0, 0.0, 0.0, 0.0, 0.0], (1.0, 2.0, 2.0, 2.0, 0.0, 0.0, 0.0): [0.0, 0.0, 0.0, 0.0, 0.0], (1.0, 0.0, 0.0, 0.0, 0.0, 0.0, 0.0): [0.0, 0.0, 0.0, 0.0, 0.0], (1.0, 0.0, 1.0, 2.0, 0.0, 0.0, 0.0): [0.0, 0.0, 0.0, 0.0, 0.0], (1.0, 2.0, 1.0, 0.0, 0.0, 0.0, 0.0): [0.0, 0.0, 0.0, 0.0, 0.0], (2.0, 1.0, 0.0, 1.0, 0.0, 0.0, 0.0): [0.0, 0.0, 0.0, 0.0, 0.0], (2.0, 2.0, 0.0, 0.0, 0.0, 0.0, 0.0): [0.0, 0.0, 0.0, 0.0, 0.0], (1.0, 1.0, 1.0, 0.0, 0.0, 0.0, 0.0): [0.0, 0.0, 0.0, 0.0, 0.0], (2.0, 0.0, 0.0, 0.0, 0.0, 0.0, 0.0): [0.0, 0.0, 0.0, 0.0, 0.0], (2.0, 1.0, 1.0, 2.0, 0.0, 0.0, 0.0): [0.0, 0.0, 0.0, 0.0, 0.0], (2.0, 1.0, 0.0, 0.0, 0.0, 0.0, 0.0): [0.0, 0.0, 0.0, 0.0, 0.0], (2.0, 1.0, 2.0, 1.0, 0.0, 0.0, 0.0): [0.0, 0.0, 0.0, 0.0, 0.0], (2.0, 0.0, 1.0, 1.0, 0.0, 0.0, 0.0): [0.0, 0.0, 0.0, 0.0, 0.0], (2.0, 0.0, 0.0, 1.0, 0.0, 0.0, 0.0): [0.0, 0.0, 0.0, 0.0, 0.0], (2.0, 1.0, 2.0, 2.0, 0.0, 0.0, 0.0): [0.0, 0.0, 0.0, 0.0, 0.0], (2.0, 2.0, 1.0, 0.0, 0.0, 0.0, 0.0): [0.0, 0.0, 0.0, 0.0, 0.0], (2.0, 2.0, 0.0, 2.0, 0.0, 0.0, 0.0): [0.0, 0.0, 0.0, 0.0, 0.0], (2.0, 0.0, 2.0, 1.0, 0.0, 0.0, 0.0): [0.0, 0.0, 0.0, 0.0, 0.0], (1.0, 0.0, 1.0, 1.0, 1.0, 0.0, 0.0): [0.0, 0.0, 0.0, 0.0, 0.0], (1.0, 0.0, 2.0, 2.0, 1.0, 0.0, 0.0): [0.0, 0.0, 0.0, 0.0, 0.0], (1.0, 0.0, 0.0, 1.0, 1.0, 0.0, 0.0): [0.0, 0.0, 0.0, 0.0, 0.0], (1.0, 1.0, 2.0, 1.0, 1.0, 0.0, 0.0): [0.0, 0.0, 0.0, 0.0, 0.0], (1.0, 2.0, 0.0, 1.0, 1.0, 0.0, 0.0): [0.0, 0.0, 0.0, 0.0, 0.0], (1.0, 1.0, 0.0, 2.0, 1.0, 0.0, 0.0): [0.0, 0.0, 0.0, 0.0, 0.0], (1.0, 0.0, 2.0, 1.0, 1.0, 0.0, 0.0): [0.0, 0.0, 0.0, 0.0, 0.0], (2.0, 1.0, 2.0, 1.0, 1.0, 0.0, 0.0): [0.0, 0.0, 0.0, 0.0, 0.0], (1.0, 0.0, 0.0, 0.0, 1.0, 0.0, 0.0): [0.0, 0.0, 0.0, 0.0, 0.0], (1.0, 1.0, 2.0, 2.0, 1.0, 0.0, 0.0): [0.0, 0.0, 0.0, 0.0, 0.0], (1.0, 1.0, 1.0, 2.0, 1.0, 0.0, 0.0): [0.0, 0.0, 0.0, 0.0, 0.0], (1.0, 2.0, 1.0, 1.0, 1.0, 0.0, 0.0): [0.0, 0.0, 0.0, 0.0, 0.0], (1.0, 1.0, 0.0, 1.0, 1.0, 0.0, 0.0): [0.0, 0.0, 0.0, 0.0, 0.0], (1.0, 2.0, 0.0, 0.0, 1.0, 0.0, 0.0): [0.0, 0.0, 0.0, 0.0, 0.0], (1.0, 1.0, 2.0, 0.0, 1.0, 0.0, 0.0): [0.0, 0.0, 0.0, 0.0, 0.0], (1.0, 0.0, 1.0, 2.0, 1.0, 0.0, 0.0): [0.0, 0.0, 0.0, 0.0, 0.0], (2.0, 0.0, 1.0, 1.0, 1.0, 0.0, 0.0): [0.0, 0.0, 0.0, 0.0, 0.0], (1.0, 2.0, 2.0, 2.0, 1.0, 0.0, 0.0): [0.0, 0.0, 0.0, 0.0, 0.0], (1.0, 1.0, 1.0, 1.0, 1.0, 0.0, 0.0): [0.0, 0.0, 0.0, 0.0, 0.0], (1.0, 0.0, 0.0, 2.0, 1.0, 0.0, 0.0): [0.0, 0.0, 0.0, 0.0, 0.0], (1.0, 0.0, 2.0, 0.0, 1.0, 0.0, 0.0): [0.0, 0.0, 0.0, 0.0, 0.0], (2.0, 0.0, 2.0, 1.0, 1.0, 0.0, 0.0): [0.0, 0.0, 0.0, 0.0, 0.0], (1.0, 1.0, 0.0, 0.0, 1.0, 0.0, 0.0): [0.0, 0.0, 0.0, 0.0, 0.0], (1.0, 2.0, 2.0, 0.0, 1.0, 0.0, 0.0): [0.0, 0.0, 0.0, 0.0, 0.0], (1.0, 2.0, 2.0, 1.0, 1.0, 0.0, 0.0): [0.0, 0.0, 0.0, 0.0, 0.0], (2.0, 1.0, 1.0, 0.0, 1.0, 0.0, 0.0): [0.0, 0.0, 0.0, 0.0, 0.0], (1.0, 2.0, 1.0, 2.0, 1.0, 0.0, 0.0): [0.0, 0.0, 0.0, 0.0, 0.0], (1.0, 2.0, 0.0, 2.0, 1.0, 0.0, 0.0): [0.0, 0.0, 0.0, 0.0, 0.0], (1.0, 0.0, 1.0, 0.0, 1.0, 0.0, 0.0): [0.0, 0.0, 0.0, 0.0, 0.0], (2.0, 2.0, 0.0, 0.0, 1.0, 0.0, 0.0): [0.0, 0.0, 0.0, 0.0, 0.0], (2.0, 1.0, 0.0, 0.0, 1.0, 0.0, 0.0): [0.0, 0.0, 0.0, 0.0, 0.0], (2.0, 0.0, 0.0, 2.0, 1.0, 0.0, 0.0): [0.0, 0.0, 0.0, 0.0, 0.0], (1.0, 2.0, 1.0, 0.0, 1.0, 0.0, 0.0): [0.0, 0.0, 0.0, 0.0, 0.0], (2.0, 2.0, 0.0, 1.0, 1.0, 0.0, 0.0): [0.0, 0.0, 0.0, 0.0, 0.0], (2.0, 1.0, 0.0, 1.0, 1.0, 0.0, 0.0): [0.0, 0.0, 0.0, 0.0, 0.0], (1.0, 1.0, 1.0, 0.0, 1.0, 0.0, 0.0): [0.0, 0.0, 0.0, 0.0, 0.0], (2.0, 0.0, 2.0, 0.0, 1.0, 0.0, 0.0): [0.0, 0.0, 0.0, 0.0, 0.0], (2.0, 2.0, 1.0, 1.0, 1.0, 0.0, 0.0): [0.0, 0.0, 0.0, 0.0, 0.0], (2.0, 1.0, 2.0, 0.0, 1.0, 0.0, 0.0): [0.0, 0.0, 0.0, 0.0, 0.0], (2.0, 1.0, 1.0, 2.0, 1.0, 0.0, 0.0): [0.0, 0.0, 0.0, 0.0, 0.0], (2.0, 0.0, 1.0, 2.0, 1.0, 0.0, 0.0): [0.0, 0.0, 0.0, 0.0, 0.0], (2.0, 0.0, 0.0, 1.0, 1.0, 0.0, 0.0): [0.0, 0.0, 0.0, 0.0, 0.0], (2.0, 1.0, 0.0, 2.0, 1.0, 0.0, 0.0): [0.0, 0.0, 0.0, 0.0, 0.0], (2.0, 1.0, 1.0, 1.0, 1.0, 0.0, 0.0): [0.0, 0.0, 0.0, 0.0, 0.0], (2.0, 2.0, 2.0, 1.0, 1.0, 0.0, 0.0): [0.0, 0.0, 0.0, 0.0, 0.0], (2.0, 2.0, 1.0, 2.0, 1.0, 0.0, 0.0): [0.0, 0.0, 0.0, 0.0, 0.0], (2.0, 2.0, 2.0, 0.0, 1.0, 0.0, 0.0): [0.0, 0.0, 0.0, 0.0, 0.0], (2.0, 0.0, 2.0, 2.0, 1.0, 0.0, 0.0): [0.0, 0.0, 0.0, 0.0, 0.0], (1.0, 1.0, 0.0, 1.0, 1.0, 0.0, 1.0): [0.0, 0.0, 0.0, 0.0, 0.0], (1.0, 1.0, 1.0, 2.0, 1.0, 0.0, 1.0): [0.0, 0.0, 0.0, 0.0, 0.0], (1.0, 2.0, 1.0, 1.0, 1.0, 0.0, 1.0): [0.0, 0.0, 0.0, 0.0, 0.0], (1.0, 2.0, 2.0, 0.0, 1.0, 0.0, 1.0): [0.0, 0.0, 0.0, 0.0, 0.0], (1.0, 1.0, 1.0, 1.0, 1.0, 0.0, 1.0): [0.0, 0.0, 0.0, 0.0, 0.0], (1.0, 1.0, 0.0, 0.0, 1.0, 0.0, 1.0): [0.0, 0.0, 0.0, 0.0, 0.0], (1.0, 0.0, 0.0, 2.0, 1.0, 0.0, 1.0): [0.0, 0.0, 0.0, 0.0, 0.0], (1.0, 2.0, 0.0, 1.0, 1.0, 0.0, 1.0): [0.0, 0.0, 0.0, 0.0, 0.0], (1.0, 1.0, 0.0, 2.0, 1.0, 0.0, 1.0): [0.0, 0.0, 0.0, 0.0, 0.0], (1.0, 0.0, 0.0, 0.0, 1.0, 0.0, 1.0): [0.0, 0.0, 0.0, 0.0, 0.0], (1.0, 0.0, 2.0, 0.0, 1.0, 0.0, 1.0): [0.0, 0.0, 0.0, 0.0, 0.0], (1.0, 2.0, 1.0, 0.0, 1.0, 0.0, 1.0): [0.0, 0.0, 0.0, 0.0, 0.0], (1.0, 1.0, 1.0, 0.0, 1.0, 0.0, 1.0): [0.0, 0.0, 0.0, 0.0, 0.0], (1.0, 2.0, 2.0, 1.0, 1.0, 0.0, 1.0): [0.0, 0.0, 0.0, 0.0, 0.0], (1.0, 0.0, 2.0, 1.0, 1.0, 0.0, 1.0): [0.0, 0.0, 0.0, 0.0, 0.0], (1.0, 0.0, 1.0, 1.0, 1.0, 0.0, 1.0): [0.0, 0.0, 0.0, 0.0, 0.0], (1.0, 2.0, 1.0, 2.0, 1.0, 0.0, 1.0): [0.0, 0.0, 0.0, 0.0, 0.0], (1.0, 0.0, 0.0, 1.0, 1.0, 0.0, 1.0): [0.0, 0.0, 0.0, 0.0, 0.0], (1.0, 1.0, 2.0, 1.0, 1.0, 0.0, 1.0): [0.0, 0.0, 0.0, 0.0, 0.0], (1.0, 2.0, 0.0, 2.0, 1.0, 0.0, 1.0): [0.0, 0.0, 0.0, 0.0, 0.0], (1.0, 0.0, 1.0, 2.0, 1.0, 0.0, 1.0): [0.0, 0.0, 0.0, 0.0, 0.0], (1.0, 0.0, 1.0, 0.0, 1.0, 0.0, 1.0): [0.0, 0.0, 0.0, 0.0, 0.0], (1.0, 1.0, 2.0, 2.0, 1.0, 0.0, 1.0): [0.0, 0.0, 0.0, 0.0, 0.0], (1.0, 2.0, 2.0, 2.0, 1.0, 0.0, 1.0): [0.0, 0.0, 0.0, 0.0, 0.0], (1.0, 1.0, 1.0, 0.0, 0.0, 0.0, 1.0): [0.0, 0.0, 0.0, 0.0, 0.0], (1.0, 1.0, 0.0, 1.0, 0.0, 0.0, 1.0): [0.0, 0.0, 0.0, 0.0, 0.0], (1.0, 1.0, 1.0, 2.0, 0.0, 0.0, 1.0): [0.0, 0.0, 0.0, 0.0, 0.0], (1.0, 2.0, 1.0, 0.0, 0.0, 0.0, 1.0): [0.0, 0.0, 0.0, 0.0, 0.0], (1.0, 2.0, 2.0, 1.0, 0.0, 0.0, 1.0): [0.0, 0.0, 0.0, 0.0, 0.0], (1.0, 0.0, 2.0, 1.0, 0.0, 0.0, 1.0): [0.0, 0.0, 0.0, 0.0, 0.0], (1.0, 1.0, 2.0, 2.0, 0.0, 0.0, 1.0): [0.0, 0.0, 0.0, 0.0, 0.0], (1.0, 1.0, 2.0, 1.0, 0.0, 0.0, 1.0): [0.0, 0.0, 0.0, 0.0, 0.0], (1.0, 2.0, 0.0, 2.0, 0.0, 0.0, 1.0): [0.0, 0.0, 0.0, 0.0, 0.0], (1.0, 1.0, 0.0, 2.0, 0.0, 0.0, 1.0): [0.0, 0.0, 0.0, 0.0, 0.0], (1.0, 1.0, 1.0, 1.0, 0.0, 0.0, 1.0): [0.0, 0.0, 0.0, 0.0, 0.0], (1.0, 0.0, 0.0, 0.0, 0.0, 0.0, 1.0): [0.0, 0.0, 0.0, 0.0, 0.0], (1.0, 2.0, 1.0, 1.0, 0.0, 0.0, 1.0): [0.0, 0.0, 0.0, 0.0, 0.0], (1.0, 0.0, 0.0, 1.0, 0.0, 0.0, 1.0): [0.0, 0.0, 0.0, 0.0, 0.0], (1.0, 0.0, 2.0, 2.0, 0.0, 0.0, 1.0): [0.0, 0.0, 0.0, 0.0, 0.0], (1.0, 0.0, 1.0, 2.0, 0.0, 0.0, 1.0): [0.0, 0.0, 0.0, 0.0, 0.0], (1.0, 2.0, 2.0, 2.0, 0.0, 0.0, 1.0): [0.0, 0.0, 0.0, 0.0, 0.0], (1.0, 2.0, 0.0, 1.0, 0.0, 0.0, 1.0): [0.0, 0.0, 0.0, 0.0, 0.0], (1.0, 0.0, 0.0, 2.0, 0.0, 0.0, 1.0): [0.0, 0.0, 0.0, 0.0, 0.0], (1.0, 0.0, 1.0, 1.0, 0.0, 0.0, 1.0): [0.0, 0.0, 0.0, 0.0, 0.0], (1.0, 1.0, 2.0, 0.0, 0.0, 0.0, 1.0): [0.0, 0.0, 0.0, 0.0, 0.0], (1.0, 0.0, 2.0, 0.0, 0.0, 0.0, 1.0): [0.0, 0.0, 0.0, 0.0, 0.0], (1.0, 1.0, 0.0, 0.0, 0.0, 0.0, 1.0): [0.0, 0.0, 0.0, 0.0, 0.0], (1.0, 0.0, 2.0, 2.0, 1.0, 0.0, 1.0): [0.0, 0.0, 0.0, 0.0, 0.0], (1.0, 2.0, 0.0, 0.0, 1.0, 0.0, 1.0): [0.0, 0.0, 0.0, 0.0, 0.0], (1.0, 0.0, 0.0, 1.0, 1.0, 1.0, 0.0): [0.0, 0.0, 0.0, 0.0, 0.0], (1.0, 2.0, 0.0, 2.0, 1.0, 1.0, 1.0): [0.0, 0.0, 0.0, 0.0, 0.0], (1.0, 1.0, 1.0, 1.0, 1.0, 1.0, 0.0): [0.0, 0.0, 0.0, 0.0, 0.0], (1.0, 1.0, 2.0, 0.0, 1.0, 0.0, 1.0): [0.0, 0.0, 0.0, 0.0, 0.0], (1.0, 0.0, 0.0, 0.0, 1.0, 1.0, 0.0): [0.0, 0.0, 0.0, 0.0, 0.0], (1.0, 0.0, 1.0, 1.0, 1.0, 1.0, 0.0): [0.0, 0.0, 0.0, 0.0, 0.0], (1.0, 0.0, 1.0, 2.0, 1.0, 1.0, 0.0): [0.0, 0.0, 0.0, 0.0, 0.0], (1.0, 1.0, 2.0, 0.0, 1.0, 1.0, 0.0): [0.0, 0.0, 0.0, 0.0, 0.0], (1.0, 1.0, 2.0, 2.0, 1.0, 1.0, 0.0): [0.0, 0.0, 0.0, 0.0, 0.0], (1.0, 1.0, 2.0, 1.0, 1.0, 1.0, 0.0): [0.0, 0.0, 0.0, 0.0, 0.0], (1.0, 1.0, 0.0, 1.0, 1.0, 1.0, 0.0): [0.0, 0.0, 0.0, 0.0, 0.0], (1.0, 2.0, 0.0, 1.0, 1.0, 1.0, 0.0): [0.0, 0.0, 0.0, 0.0, 0.0], (1.0, 2.0, 1.0, 1.0, 1.0, 1.0, 0.0): [0.0, 0.0, 0.0, 0.0, 0.0], (1.0, 1.0, 0.0, 0.0, 1.0, 1.0, 0.0): [0.0, 0.0, 0.0, 0.0, 0.0], (1.0, 0.0, 0.0, 0.0, 1.0, 1.0, 1.0): [0.0, 0.0, 0.0, 0.0, 0.0], (1.0, 0.0, 2.0, 1.0, 1.0, 1.0, 0.0): [0.0, 0.0, 0.0, 0.0, 0.0], (1.0, 1.0, 0.0, 2.0, 1.0, 1.0, 0.0): [0.0, 0.0, 0.0, 0.0, 0.0], (1.0, 2.0, 2.0, 0.0, 1.0, 1.0, 1.0): [0.0, 0.0, 0.0, 0.0, 0.0], (1.0, 0.0, 0.0, 2.0, 1.0, 1.0, 0.0): [0.0, 0.0, 0.0, 0.0, 0.0], (1.0, 1.0, 1.0, 2.0, 1.0, 1.0, 0.0): [0.0, 0.0, 0.0, 0.0, 0.0], (1.0, 2.0, 0.0, 2.0, 1.0, 1.0, 0.0): [0.0, 0.0, 0.0, 0.0, 0.0], (1.0, 0.0, 1.0, 0.0, 1.0, 1.0, 1.0): [0.0, 0.0, 0.0, 0.0, 0.0], (1.0, 0.0, 0.0, 2.0, 1.0, 1.0, 1.0): [0.0, 0.0, 0.0, 0.0, 0.0], (1.0, 1.0, 1.0, 1.0, 0.0, 1.0, 0.0): [0.0, 0.0, 0.0, 0.0, 0.0], (1.0, 2.0, 0.0, 0.0, 0.0, 0.0, 1.0): [0.0, 0.0, 0.0, 0.0, 0.0], (1.0, 2.0, 0.0, 1.0, 0.0, 1.0, 0.0): [0.0, 0.0, 0.0, 0.0, 0.0], (1.0, 2.0, 2.0, 2.0, 0.0, 1.0, 0.0): [0.0, 0.0, 0.0, 0.0, 0.0], (0.0, 1.0, 1.0, 1.0, 0.0, 0.0, 0.0): [0.0, 0.0, 0.0, 0.0, 0.0], (1.0, 1.0, 0.0, 2.0, 0.0, 1.0, 0.0): [0.0, 0.0, 0.0, 0.0, 0.0], (0.0, 0.0, 1.0, 0.0, 0.0, 0.0, 0.0): [0.0, 0.0, 0.0, 0.0, 0.0], (1.0, 1.0, 0.0, 1.0, 0.0, 1.0, 0.0): [0.0, 0.0, 0.0, 0.0, 0.0], (0.0, 0.0, 2.0, 1.0, 0.0, 0.0, 0.0): [0.0, 0.0, 0.0, 0.0, 0.0], (1.0, 2.0, 2.0, 0.0, 0.0, 0.0, 1.0): [0.0, 0.0, 0.0, 0.0, 0.0], (0.0, 1.0, 2.0, 1.0, 0.0, 0.0, 0.0): [0.0, 0.0, 0.0, 0.0, 0.0], (1.0, 0.0, 1.0, 0.0, 0.0, 0.0, 1.0): [0.0, 0.0, 0.0, 0.0, 0.0], (0.0, 2.0, 0.0, 1.0, 0.0, 0.0, 0.0): [0.0, 0.0, 0.0, 0.0, 0.0], (0.0, 1.0, 0.0, 1.0, 0.0, 0.0, 0.0): [0.0, 0.0, 0.0, 0.0, 0.0], (1.0, 2.0, 1.0, 1.0, 0.0, 1.0, 0.0): [0.0, 0.0, 0.0, 0.0, 0.0], (1.0, 1.0, 0.0, 2.0, 0.0, 1.0, 1.0): [0.0, 0.0, 0.0, 0.0, 0.0], (0.0, 2.0, 1.0, 0.0, 0.0, 0.0, 0.0): [0.0, 0.0, 0.0, 0.0, 0.0], (1.0, 1.0, 2.0, 2.0, 0.0, 1.0, 0.0): [0.0, 0.0, 0.0, 0.0, 0.0], (0.0, 1.0, 0.0, 1.0, 0.0, 0.0, 1.0): [0.0, 0.0, 0.0, 0.0, 0.0], (0.0, 2.0, 1.0, 0.0, 0.0, 0.0, 1.0): [0.0, 0.0, 0.0, 0.0, 0.0], (0.0, 1.0, 1.0, 1.0, 0.0, 0.0, 1.0): [0.0, 0.0, 0.0, 0.0, 0.0], (1.0, 0.0, 2.0, 0.0, 0.0, 1.0, 0.0): [0.0, 0.0, 0.0, 0.0, 0.0], (0.0, 0.0, 0.0, 1.0, 0.0, 0.0, 0.0): [0.0, 0.0, 0.0, 0.0, 0.0], (1.0, 0.0, 0.0, 1.0, 0.0, 1.0, 1.0): [0.0, 0.0, 0.0, 0.0, 0.0], (0.0, 2.0, 1.0, 1.0, 0.0, 0.0, 0.0): [0.0, 0.0, 0.0, 0.0, 0.0], (1.0, 0.0, 0.0, 1.0, 0.0, 1.0, 0.0): [0.0, 0.0, 0.0, 0.0, 0.0], (0.0, 1.0, 0.0, 0.0, 0.0, 0.0, 0.0): [0.0, 0.0, 0.0, 0.0, 0.0], (1.0, 0.0, 2.0, 1.0, 0.0, 1.0, 0.0): [0.0, 0.0, 0.0, 0.0, 0.0], (1.0, 0.0, 1.0, 1.0, 0.0, 1.0, 0.0): [0.0, 0.0, 0.0, 0.0, 0.0], (1.0, 2.0, 1.0, 2.0, 0.0, 0.0, 1.0): [0.0, 0.0, 0.0, 0.0, 0.0], (0.0, 0.0, 1.0, 2.0, 0.0, 0.0, 0.0): [0.0, 0.0, 0.0, 0.0, 0.0], (1.0, 1.0, 1.0, 0.0, 0.0, 1.0, 0.0): [0.0, 0.0, 0.0, 0.0, 0.0], (1.0, 1.0, 0.0, 0.0, 0.0, 1.0, 0.0): [0.0, 0.0, 0.0, 0.0, 0.0], (1.0, 2.0, 0.0, 0.0, 0.0, 1.0, 0.0): [0.0, 0.0, 0.0, 0.0, 0.0], (1.0, 1.0, 1.0, 0.0, 0.0, 1.0, 1.0): [0.0, 0.0, 0.0, 0.0, 0.0], (0.0, 0.0, 0.0, 0.0, 0.0, 0.0, 0.0): [0.0, 0.0, 0.0, 0.0, 0.0], (0.0, 0.0, 2.0, 1.0, 0.0, 0.0, 1.0): [0.0, 0.0, 0.0, 0.0, 0.0], (1.0, 0.0, 0.0, 0.0, 0.0, 1.0, 0.0): [0.0, 0.0, 0.0, 0.0, 0.0], (0.0, 2.0, 0.0, 1.0, 0.0, 0.0, 1.0): [0.0, 0.0, 0.0, 0.0, 0.0], (1.0, 2.0, 1.0, 2.0, 0.0, 1.0, 0.0): [0.0, 0.0, 0.0, 0.0, 0.0], (0.0, 0.0, 1.0, 1.0, 0.0, 0.0, 0.0): [0.0, 0.0, 0.0, 0.0, 0.0], (1.0, 1.0, 2.0, 1.0, 0.0, 1.0, 0.0): [0.0, 0.0, 0.0, 0.0, 0.0], (1.0, 1.0, 2.0, 1.0, 0.0, 1.0, 1.0): [0.0, 0.0, 0.0, 0.0, 0.0], (1.0, 0.0, 2.0, 2.0, 0.0, 1.0, 0.0): [0.0, 0.0, 0.0, 0.0, 0.0], (1.0, 2.0, 2.0, 0.0, 0.0, 1.0, 0.0): [0.0, 0.0, 0.0, 0.0, 0.0], (1.0, 2.0, 1.0, 1.0, 0.0, 1.0, 1.0): [0.0, 0.0, 0.0, 0.0, 0.0], (1.0, 0.0, 0.0, 2.0, 0.0, 1.0, 0.0): [0.0, 0.0, 0.0, 0.0, 0.0], (1.0, 1.0, 1.0, 2.0, 0.0, 1.0, 0.0): [0.0, 0.0, 0.0, 0.0, 0.0], (1.0, 2.0, 0.0, 2.0, 0.0, 1.0, 0.0): [0.0, 0.0, 0.0, 0.0, 0.0], (1.0, 1.0, 2.0, 0.0, 0.0, 1.0, 0.0): [0.0, 0.0, 0.0, 0.0, 0.0], (1.0, 0.0, 1.0, 2.0, 0.0, 1.0, 0.0): [0.0, 0.0, 0.0, 0.0, 0.0], (1.0, 2.0, 2.0, 1.0, 0.0, 1.0, 0.0): [0.0, 0.0, 0.0, 0.0, 0.0], (1.0, 2.0, 1.0, 0.0, 0.0, 1.0, 0.0): [0.0, 0.0, 0.0, 0.0, 0.0], (1.0, 0.0, 1.0, 0.0, 0.0, 1.0, 0.0): [0.0, 0.0, 0.0, 0.0, 0.0]}\n"
          ]
        }
      ],
      "source": [
        "# Get the unique states from the 'state' column of df_features\n",
        "unique_states = df_features['state'].unique()\n",
        "\n",
        "# Initialize the Q-table with zeros for each unique state and action\n",
        "initial_q_table = {\n",
        "    state: [0.0 for _ in range(n_actions)]\n",
        "    for state in unique_states\n",
        "}\n",
        "\n",
        "print(initial_q_table)"
      ]
    },
    {
      "cell_type": "markdown",
      "metadata": {
        "id": "RCTvlg8WNZlX"
      },
      "source": [
        "q_table = {\n",
        "    state: [0.0 for _ in range(n_actions)]\n",
        "    for state in state_space\n",
        "}\n",
        "\n",
        "print(q_table)"
      ]
    },
    {
      "cell_type": "code",
      "execution_count": null,
      "metadata": {
        "colab": {
          "base_uri": "https://localhost:8080/",
          "height": 423
        },
        "id": "bb09de1a",
        "outputId": "00494daf-0487-478b-8d8d-4c22ddc283fc"
      },
      "outputs": [
        {
          "output_type": "display_data",
          "data": {
            "text/plain": [
              "                                     Action 0  Action 1  Action 2  Action 3  \\\n",
              "(1.0, 1.0, 0.0, 1.0, 0.0, 0.0, 0.0)       0.0       0.0       0.0       0.0   \n",
              "(1.0, 2.0, 0.0, 1.0, 0.0, 0.0, 0.0)       0.0       0.0       0.0       0.0   \n",
              "(1.0, 1.0, 2.0, 2.0, 0.0, 0.0, 0.0)       0.0       0.0       0.0       0.0   \n",
              "(1.0, 1.0, 1.0, 1.0, 0.0, 0.0, 0.0)       0.0       0.0       0.0       0.0   \n",
              "(1.0, 0.0, 2.0, 2.0, 0.0, 0.0, 0.0)       0.0       0.0       0.0       0.0   \n",
              "...                                       ...       ...       ...       ...   \n",
              "(1.0, 1.0, 2.0, 0.0, 0.0, 1.0, 0.0)       0.0       0.0       0.0       0.0   \n",
              "(1.0, 0.0, 1.0, 2.0, 0.0, 1.0, 0.0)       0.0       0.0       0.0       0.0   \n",
              "(1.0, 2.0, 2.0, 1.0, 0.0, 1.0, 0.0)       0.0       0.0       0.0       0.0   \n",
              "(1.0, 2.0, 1.0, 0.0, 0.0, 1.0, 0.0)       0.0       0.0       0.0       0.0   \n",
              "(1.0, 0.0, 1.0, 0.0, 0.0, 1.0, 0.0)       0.0       0.0       0.0       0.0   \n",
              "\n",
              "                                     Action 4  \n",
              "(1.0, 1.0, 0.0, 1.0, 0.0, 0.0, 0.0)       0.0  \n",
              "(1.0, 2.0, 0.0, 1.0, 0.0, 0.0, 0.0)       0.0  \n",
              "(1.0, 1.0, 2.0, 2.0, 0.0, 0.0, 0.0)       0.0  \n",
              "(1.0, 1.0, 1.0, 1.0, 0.0, 0.0, 0.0)       0.0  \n",
              "(1.0, 0.0, 2.0, 2.0, 0.0, 0.0, 0.0)       0.0  \n",
              "...                                       ...  \n",
              "(1.0, 1.0, 2.0, 0.0, 0.0, 1.0, 0.0)       0.0  \n",
              "(1.0, 0.0, 1.0, 2.0, 0.0, 1.0, 0.0)       0.0  \n",
              "(1.0, 2.0, 2.0, 1.0, 0.0, 1.0, 0.0)       0.0  \n",
              "(1.0, 2.0, 1.0, 0.0, 0.0, 1.0, 0.0)       0.0  \n",
              "(1.0, 0.0, 1.0, 0.0, 0.0, 1.0, 0.0)       0.0  \n",
              "\n",
              "[216 rows x 5 columns]"
            ],
            "text/html": [
              "\n",
              "  <div id=\"df-45fbde1b-6351-4ee1-a3dd-cb6107259a31\" class=\"colab-df-container\">\n",
              "    <div>\n",
              "<style scoped>\n",
              "    .dataframe tbody tr th:only-of-type {\n",
              "        vertical-align: middle;\n",
              "    }\n",
              "\n",
              "    .dataframe tbody tr th {\n",
              "        vertical-align: top;\n",
              "    }\n",
              "\n",
              "    .dataframe thead th {\n",
              "        text-align: right;\n",
              "    }\n",
              "</style>\n",
              "<table border=\"1\" class=\"dataframe\">\n",
              "  <thead>\n",
              "    <tr style=\"text-align: right;\">\n",
              "      <th></th>\n",
              "      <th>Action 0</th>\n",
              "      <th>Action 1</th>\n",
              "      <th>Action 2</th>\n",
              "      <th>Action 3</th>\n",
              "      <th>Action 4</th>\n",
              "    </tr>\n",
              "  </thead>\n",
              "  <tbody>\n",
              "    <tr>\n",
              "      <th>(1.0, 1.0, 0.0, 1.0, 0.0, 0.0, 0.0)</th>\n",
              "      <td>0.0</td>\n",
              "      <td>0.0</td>\n",
              "      <td>0.0</td>\n",
              "      <td>0.0</td>\n",
              "      <td>0.0</td>\n",
              "    </tr>\n",
              "    <tr>\n",
              "      <th>(1.0, 2.0, 0.0, 1.0, 0.0, 0.0, 0.0)</th>\n",
              "      <td>0.0</td>\n",
              "      <td>0.0</td>\n",
              "      <td>0.0</td>\n",
              "      <td>0.0</td>\n",
              "      <td>0.0</td>\n",
              "    </tr>\n",
              "    <tr>\n",
              "      <th>(1.0, 1.0, 2.0, 2.0, 0.0, 0.0, 0.0)</th>\n",
              "      <td>0.0</td>\n",
              "      <td>0.0</td>\n",
              "      <td>0.0</td>\n",
              "      <td>0.0</td>\n",
              "      <td>0.0</td>\n",
              "    </tr>\n",
              "    <tr>\n",
              "      <th>(1.0, 1.0, 1.0, 1.0, 0.0, 0.0, 0.0)</th>\n",
              "      <td>0.0</td>\n",
              "      <td>0.0</td>\n",
              "      <td>0.0</td>\n",
              "      <td>0.0</td>\n",
              "      <td>0.0</td>\n",
              "    </tr>\n",
              "    <tr>\n",
              "      <th>(1.0, 0.0, 2.0, 2.0, 0.0, 0.0, 0.0)</th>\n",
              "      <td>0.0</td>\n",
              "      <td>0.0</td>\n",
              "      <td>0.0</td>\n",
              "      <td>0.0</td>\n",
              "      <td>0.0</td>\n",
              "    </tr>\n",
              "    <tr>\n",
              "      <th>...</th>\n",
              "      <td>...</td>\n",
              "      <td>...</td>\n",
              "      <td>...</td>\n",
              "      <td>...</td>\n",
              "      <td>...</td>\n",
              "    </tr>\n",
              "    <tr>\n",
              "      <th>(1.0, 1.0, 2.0, 0.0, 0.0, 1.0, 0.0)</th>\n",
              "      <td>0.0</td>\n",
              "      <td>0.0</td>\n",
              "      <td>0.0</td>\n",
              "      <td>0.0</td>\n",
              "      <td>0.0</td>\n",
              "    </tr>\n",
              "    <tr>\n",
              "      <th>(1.0, 0.0, 1.0, 2.0, 0.0, 1.0, 0.0)</th>\n",
              "      <td>0.0</td>\n",
              "      <td>0.0</td>\n",
              "      <td>0.0</td>\n",
              "      <td>0.0</td>\n",
              "      <td>0.0</td>\n",
              "    </tr>\n",
              "    <tr>\n",
              "      <th>(1.0, 2.0, 2.0, 1.0, 0.0, 1.0, 0.0)</th>\n",
              "      <td>0.0</td>\n",
              "      <td>0.0</td>\n",
              "      <td>0.0</td>\n",
              "      <td>0.0</td>\n",
              "      <td>0.0</td>\n",
              "    </tr>\n",
              "    <tr>\n",
              "      <th>(1.0, 2.0, 1.0, 0.0, 0.0, 1.0, 0.0)</th>\n",
              "      <td>0.0</td>\n",
              "      <td>0.0</td>\n",
              "      <td>0.0</td>\n",
              "      <td>0.0</td>\n",
              "      <td>0.0</td>\n",
              "    </tr>\n",
              "    <tr>\n",
              "      <th>(1.0, 0.0, 1.0, 0.0, 0.0, 1.0, 0.0)</th>\n",
              "      <td>0.0</td>\n",
              "      <td>0.0</td>\n",
              "      <td>0.0</td>\n",
              "      <td>0.0</td>\n",
              "      <td>0.0</td>\n",
              "    </tr>\n",
              "  </tbody>\n",
              "</table>\n",
              "<p>216 rows × 5 columns</p>\n",
              "</div>\n",
              "    <div class=\"colab-df-buttons\">\n",
              "\n",
              "  <div class=\"colab-df-container\">\n",
              "    <button class=\"colab-df-convert\" onclick=\"convertToInteractive('df-45fbde1b-6351-4ee1-a3dd-cb6107259a31')\"\n",
              "            title=\"Convert this dataframe to an interactive table.\"\n",
              "            style=\"display:none;\">\n",
              "\n",
              "  <svg xmlns=\"http://www.w3.org/2000/svg\" height=\"24px\" viewBox=\"0 -960 960 960\">\n",
              "    <path d=\"M120-120v-720h720v720H120Zm60-500h600v-160H180v160Zm220 220h160v-160H400v160Zm0 220h160v-160H400v160ZM180-400h160v-160H180v160Zm440 0h160v-160H620v160ZM180-180h160v-160H180v160Zm440 0h160v-160H620v160Z\"/>\n",
              "  </svg>\n",
              "    </button>\n",
              "\n",
              "  <style>\n",
              "    .colab-df-container {\n",
              "      display:flex;\n",
              "      gap: 12px;\n",
              "    }\n",
              "\n",
              "    .colab-df-convert {\n",
              "      background-color: #E8F0FE;\n",
              "      border: none;\n",
              "      border-radius: 50%;\n",
              "      cursor: pointer;\n",
              "      display: none;\n",
              "      fill: #1967D2;\n",
              "      height: 32px;\n",
              "      padding: 0 0 0 0;\n",
              "      width: 32px;\n",
              "    }\n",
              "\n",
              "    .colab-df-convert:hover {\n",
              "      background-color: #E2EBFA;\n",
              "      box-shadow: 0px 1px 2px rgba(60, 64, 67, 0.3), 0px 1px 3px 1px rgba(60, 64, 67, 0.15);\n",
              "      fill: #174EA6;\n",
              "    }\n",
              "\n",
              "    .colab-df-buttons div {\n",
              "      margin-bottom: 4px;\n",
              "    }\n",
              "\n",
              "    [theme=dark] .colab-df-convert {\n",
              "      background-color: #3B4455;\n",
              "      fill: #D2E3FC;\n",
              "    }\n",
              "\n",
              "    [theme=dark] .colab-df-convert:hover {\n",
              "      background-color: #434B5C;\n",
              "      box-shadow: 0px 1px 3px 1px rgba(0, 0, 0, 0.15);\n",
              "      filter: drop-shadow(0px 1px 2px rgba(0, 0, 0, 0.3));\n",
              "      fill: #FFFFFF;\n",
              "    }\n",
              "  </style>\n",
              "\n",
              "    <script>\n",
              "      const buttonEl =\n",
              "        document.querySelector('#df-45fbde1b-6351-4ee1-a3dd-cb6107259a31 button.colab-df-convert');\n",
              "      buttonEl.style.display =\n",
              "        google.colab.kernel.accessAllowed ? 'block' : 'none';\n",
              "\n",
              "      async function convertToInteractive(key) {\n",
              "        const element = document.querySelector('#df-45fbde1b-6351-4ee1-a3dd-cb6107259a31');\n",
              "        const dataTable =\n",
              "          await google.colab.kernel.invokeFunction('convertToInteractive',\n",
              "                                                    [key], {});\n",
              "        if (!dataTable) return;\n",
              "\n",
              "        const docLinkHtml = 'Like what you see? Visit the ' +\n",
              "          '<a target=\"_blank\" href=https://colab.research.google.com/notebooks/data_table.ipynb>data table notebook</a>'\n",
              "          + ' to learn more about interactive tables.';\n",
              "        element.innerHTML = '';\n",
              "        dataTable['output_type'] = 'display_data';\n",
              "        await google.colab.output.renderOutput(dataTable, element);\n",
              "        const docLink = document.createElement('div');\n",
              "        docLink.innerHTML = docLinkHtml;\n",
              "        element.appendChild(docLink);\n",
              "      }\n",
              "    </script>\n",
              "  </div>\n",
              "\n",
              "\n",
              "    <div id=\"df-c4a84c59-8e85-46d7-8f10-67d965f3023a\">\n",
              "      <button class=\"colab-df-quickchart\" onclick=\"quickchart('df-c4a84c59-8e85-46d7-8f10-67d965f3023a')\"\n",
              "                title=\"Suggest charts\"\n",
              "                style=\"display:none;\">\n",
              "\n",
              "<svg xmlns=\"http://www.w3.org/2000/svg\" height=\"24px\"viewBox=\"0 0 24 24\"\n",
              "     width=\"24px\">\n",
              "    <g>\n",
              "        <path d=\"M19 3H5c-1.1 0-2 .9-2 2v14c0 1.1.9 2 2 2h14c1.1 0 2-.9 2-2V5c0-1.1-.9-2-2-2zM9 17H7v-7h2v7zm4 0h-2V7h2v10zm4 0h-2v-4h2v4z\"/>\n",
              "    </g>\n",
              "</svg>\n",
              "      </button>\n",
              "\n",
              "<style>\n",
              "  .colab-df-quickchart {\n",
              "      --bg-color: #E8F0FE;\n",
              "      --fill-color: #1967D2;\n",
              "      --hover-bg-color: #E2EBFA;\n",
              "      --hover-fill-color: #174EA6;\n",
              "      --disabled-fill-color: #AAA;\n",
              "      --disabled-bg-color: #DDD;\n",
              "  }\n",
              "\n",
              "  [theme=dark] .colab-df-quickchart {\n",
              "      --bg-color: #3B4455;\n",
              "      --fill-color: #D2E3FC;\n",
              "      --hover-bg-color: #434B5C;\n",
              "      --hover-fill-color: #FFFFFF;\n",
              "      --disabled-bg-color: #3B4455;\n",
              "      --disabled-fill-color: #666;\n",
              "  }\n",
              "\n",
              "  .colab-df-quickchart {\n",
              "    background-color: var(--bg-color);\n",
              "    border: none;\n",
              "    border-radius: 50%;\n",
              "    cursor: pointer;\n",
              "    display: none;\n",
              "    fill: var(--fill-color);\n",
              "    height: 32px;\n",
              "    padding: 0;\n",
              "    width: 32px;\n",
              "  }\n",
              "\n",
              "  .colab-df-quickchart:hover {\n",
              "    background-color: var(--hover-bg-color);\n",
              "    box-shadow: 0 1px 2px rgba(60, 64, 67, 0.3), 0 1px 3px 1px rgba(60, 64, 67, 0.15);\n",
              "    fill: var(--button-hover-fill-color);\n",
              "  }\n",
              "\n",
              "  .colab-df-quickchart-complete:disabled,\n",
              "  .colab-df-quickchart-complete:disabled:hover {\n",
              "    background-color: var(--disabled-bg-color);\n",
              "    fill: var(--disabled-fill-color);\n",
              "    box-shadow: none;\n",
              "  }\n",
              "\n",
              "  .colab-df-spinner {\n",
              "    border: 2px solid var(--fill-color);\n",
              "    border-color: transparent;\n",
              "    border-bottom-color: var(--fill-color);\n",
              "    animation:\n",
              "      spin 1s steps(1) infinite;\n",
              "  }\n",
              "\n",
              "  @keyframes spin {\n",
              "    0% {\n",
              "      border-color: transparent;\n",
              "      border-bottom-color: var(--fill-color);\n",
              "      border-left-color: var(--fill-color);\n",
              "    }\n",
              "    20% {\n",
              "      border-color: transparent;\n",
              "      border-left-color: var(--fill-color);\n",
              "      border-top-color: var(--fill-color);\n",
              "    }\n",
              "    30% {\n",
              "      border-color: transparent;\n",
              "      border-left-color: var(--fill-color);\n",
              "      border-top-color: var(--fill-color);\n",
              "      border-right-color: var(--fill-color);\n",
              "    }\n",
              "    40% {\n",
              "      border-color: transparent;\n",
              "      border-right-color: var(--fill-color);\n",
              "      border-top-color: var(--fill-color);\n",
              "    }\n",
              "    60% {\n",
              "      border-color: transparent;\n",
              "      border-right-color: var(--fill-color);\n",
              "    }\n",
              "    80% {\n",
              "      border-color: transparent;\n",
              "      border-right-color: var(--fill-color);\n",
              "      border-bottom-color: var(--fill-color);\n",
              "    }\n",
              "    90% {\n",
              "      border-color: transparent;\n",
              "      border-bottom-color: var(--fill-color);\n",
              "    }\n",
              "  }\n",
              "</style>\n",
              "\n",
              "      <script>\n",
              "        async function quickchart(key) {\n",
              "          const quickchartButtonEl =\n",
              "            document.querySelector('#' + key + ' button');\n",
              "          quickchartButtonEl.disabled = true;  // To prevent multiple clicks.\n",
              "          quickchartButtonEl.classList.add('colab-df-spinner');\n",
              "          try {\n",
              "            const charts = await google.colab.kernel.invokeFunction(\n",
              "                'suggestCharts', [key], {});\n",
              "          } catch (error) {\n",
              "            console.error('Error during call to suggestCharts:', error);\n",
              "          }\n",
              "          quickchartButtonEl.classList.remove('colab-df-spinner');\n",
              "          quickchartButtonEl.classList.add('colab-df-quickchart-complete');\n",
              "        }\n",
              "        (() => {\n",
              "          let quickchartButtonEl =\n",
              "            document.querySelector('#df-c4a84c59-8e85-46d7-8f10-67d965f3023a button');\n",
              "          quickchartButtonEl.style.display =\n",
              "            google.colab.kernel.accessAllowed ? 'block' : 'none';\n",
              "        })();\n",
              "      </script>\n",
              "    </div>\n",
              "\n",
              "  <div id=\"id_3c9f50f8-4473-4bea-bc08-f29fc920aba9\">\n",
              "    <style>\n",
              "      .colab-df-generate {\n",
              "        background-color: #E8F0FE;\n",
              "        border: none;\n",
              "        border-radius: 50%;\n",
              "        cursor: pointer;\n",
              "        display: none;\n",
              "        fill: #1967D2;\n",
              "        height: 32px;\n",
              "        padding: 0 0 0 0;\n",
              "        width: 32px;\n",
              "      }\n",
              "\n",
              "      .colab-df-generate:hover {\n",
              "        background-color: #E2EBFA;\n",
              "        box-shadow: 0px 1px 2px rgba(60, 64, 67, 0.3), 0px 1px 3px 1px rgba(60, 64, 67, 0.15);\n",
              "        fill: #174EA6;\n",
              "      }\n",
              "\n",
              "      [theme=dark] .colab-df-generate {\n",
              "        background-color: #3B4455;\n",
              "        fill: #D2E3FC;\n",
              "      }\n",
              "\n",
              "      [theme=dark] .colab-df-generate:hover {\n",
              "        background-color: #434B5C;\n",
              "        box-shadow: 0px 1px 3px 1px rgba(0, 0, 0, 0.15);\n",
              "        filter: drop-shadow(0px 1px 2px rgba(0, 0, 0, 0.3));\n",
              "        fill: #FFFFFF;\n",
              "      }\n",
              "    </style>\n",
              "    <button class=\"colab-df-generate\" onclick=\"generateWithVariable('q_table_df')\"\n",
              "            title=\"Generate code using this dataframe.\"\n",
              "            style=\"display:none;\">\n",
              "\n",
              "  <svg xmlns=\"http://www.w3.org/2000/svg\" height=\"24px\"viewBox=\"0 0 24 24\"\n",
              "       width=\"24px\">\n",
              "    <path d=\"M7,19H8.4L18.45,9,17,7.55,7,17.6ZM5,21V16.75L18.45,3.32a2,2,0,0,1,2.83,0l1.4,1.43a1.91,1.91,0,0,1,.58,1.4,1.91,1.91,0,0,1-.58,1.4L9.25,21ZM18.45,9,17,7.55Zm-12,3A5.31,5.31,0,0,0,4.9,8.1,5.31,5.31,0,0,0,1,6.5,5.31,5.31,0,0,0,4.9,4.9,5.31,5.31,0,0,0,6.5,1,5.31,5.31,0,0,0,8.1,4.9,5.31,5.31,0,0,0,12,6.5,5.46,5.46,0,0,0,6.5,12Z\"/>\n",
              "  </svg>\n",
              "    </button>\n",
              "    <script>\n",
              "      (() => {\n",
              "      const buttonEl =\n",
              "        document.querySelector('#id_3c9f50f8-4473-4bea-bc08-f29fc920aba9 button.colab-df-generate');\n",
              "      buttonEl.style.display =\n",
              "        google.colab.kernel.accessAllowed ? 'block' : 'none';\n",
              "\n",
              "      buttonEl.onclick = () => {\n",
              "        google.colab.notebook.generateWithVariable('q_table_df');\n",
              "      }\n",
              "      })();\n",
              "    </script>\n",
              "  </div>\n",
              "\n",
              "    </div>\n",
              "  </div>\n"
            ],
            "application/vnd.google.colaboratory.intrinsic+json": {
              "type": "dataframe",
              "variable_name": "q_table_df",
              "summary": "{\n  \"name\": \"q_table_df\",\n  \"rows\": 216,\n  \"fields\": [\n    {\n      \"column\": \"Action 0\",\n      \"properties\": {\n        \"dtype\": \"number\",\n        \"std\": 0.0,\n        \"min\": 0.0,\n        \"max\": 0.0,\n        \"num_unique_values\": 1,\n        \"samples\": [\n          0.0\n        ],\n        \"semantic_type\": \"\",\n        \"description\": \"\"\n      }\n    },\n    {\n      \"column\": \"Action 1\",\n      \"properties\": {\n        \"dtype\": \"number\",\n        \"std\": 0.0,\n        \"min\": 0.0,\n        \"max\": 0.0,\n        \"num_unique_values\": 1,\n        \"samples\": [\n          0.0\n        ],\n        \"semantic_type\": \"\",\n        \"description\": \"\"\n      }\n    },\n    {\n      \"column\": \"Action 2\",\n      \"properties\": {\n        \"dtype\": \"number\",\n        \"std\": 0.0,\n        \"min\": 0.0,\n        \"max\": 0.0,\n        \"num_unique_values\": 1,\n        \"samples\": [\n          0.0\n        ],\n        \"semantic_type\": \"\",\n        \"description\": \"\"\n      }\n    },\n    {\n      \"column\": \"Action 3\",\n      \"properties\": {\n        \"dtype\": \"number\",\n        \"std\": 0.0,\n        \"min\": 0.0,\n        \"max\": 0.0,\n        \"num_unique_values\": 1,\n        \"samples\": [\n          0.0\n        ],\n        \"semantic_type\": \"\",\n        \"description\": \"\"\n      }\n    },\n    {\n      \"column\": \"Action 4\",\n      \"properties\": {\n        \"dtype\": \"number\",\n        \"std\": 0.0,\n        \"min\": 0.0,\n        \"max\": 0.0,\n        \"num_unique_values\": 1,\n        \"samples\": [\n          0.0\n        ],\n        \"semantic_type\": \"\",\n        \"description\": \"\"\n      }\n    }\n  ]\n}"
            }
          },
          "metadata": {}
        }
      ],
      "source": [
        "from IPython.display import display\n",
        "import pandas as pd\n",
        "\n",
        "# Convertir la Q-table a DataFrame\n",
        "q_table_df = pd.DataFrame.from_dict(initial_q_table, orient='index')\n",
        "q_table_df.columns = [f'Action {i}' for i in range(n_actions)]\n",
        "\n",
        "# Mostrar en Colab\n",
        "display(q_table_df)\n"
      ]
    },
    {
      "cell_type": "code",
      "source": [
        "import matplotlib.pyplot as plt\n",
        "import numpy as np\n",
        "\n",
        "def comparar_q_tables(q_tables_by_episode, all_actions):\n",
        "    diferencias = []\n",
        "\n",
        "    for i in range(1, len(q_tables_by_episode)):\n",
        "        q_anterior = q_tables_by_episode[i - 1]\n",
        "        q_actual = q_tables_by_episode[i]\n",
        "\n",
        "        diff_total = 0.0\n",
        "        for estado in set(q_anterior.keys()).union(q_actual.keys()):\n",
        "            q1 = np.array(q_anterior.get(estado, [0.0] * len(all_actions)))\n",
        "            q2 = np.array(q_actual.get(estado, [0.0] * len(all_actions)))\n",
        "            diff_total += np.sum(np.abs(q2 - q1))\n",
        "\n",
        "        diferencias.append(diff_total)\n",
        "\n",
        "    # Graficar\n",
        "    plt.figure(figsize=(8, 4))\n",
        "    plt.plot(diferencias, color='darkblue')\n",
        "    plt.title('Evolución de la diferencia total en Q-table por episodio')\n",
        "    plt.xlabel('Episodio')\n",
        "    plt.ylabel('Suma de |ΔQ(s,a)|')\n",
        "    plt.grid(True)\n",
        "    plt.tight_layout()\n",
        "    plt.show()\n",
        "\n",
        "    #return diferencias\n",
        "    return\n"
      ],
      "metadata": {
        "id": "nWOgaKf0Q9yt"
      },
      "execution_count": null,
      "outputs": []
    },
    {
      "cell_type": "code",
      "execution_count": null,
      "metadata": {
        "id": "avL9hrOkon9L"
      },
      "outputs": [],
      "source": [
        "import numpy as np\n",
        "import matplotlib.pyplot as plt\n",
        "\n",
        "def comparar_q_tables_heatmap(q_tables_by_episode, estados_visitados, all_actions):\n",
        "    diffs_por_par = []  # Lista de listas: cada sublista tiene ΔQ(s,a) para un episodio\n",
        "\n",
        "    for i in range(1, len(q_tables_by_episode)):\n",
        "        q_anterior = q_tables_by_episode[i - 1]\n",
        "        q_actual = q_tables_by_episode[i]\n",
        "\n",
        "        diffs_estado_accion = []\n",
        "        for s in estados_visitados:\n",
        "            for a_idx, a in enumerate(all_actions):\n",
        "                q1 = q_anterior.get(s, [0.0] * len(all_actions))[a_idx]\n",
        "                q2 = q_actual.get(s, [0.0] * len(all_actions))[a_idx]\n",
        "                delta = abs(q2 - q1)\n",
        "                diffs_estado_accion.append(delta)\n",
        "\n",
        "        diffs_por_par.append(diffs_estado_accion)\n",
        "\n",
        "    diffs_matrix = np.array(diffs_por_par)  # shape: [episodios-1, estados*acciones]\n",
        "\n",
        "    # Heatmap\n",
        "    plt.figure(figsize=(12, 6))\n",
        "    plt.imshow(diffs_matrix.T, aspect='auto', cmap='viridis', interpolation='nearest')\n",
        "    plt.colorbar(label='|ΔQ(s,a)|')\n",
        "    plt.xlabel('Episodio')\n",
        "    plt.ylabel('Índice (s,a)')\n",
        "    plt.title('Evolución de ΔQ(s,a) en cada episodio')\n",
        "    plt.tight_layout()\n",
        "    plt.show()\n",
        "\n",
        "    return diffs_matrix\n"
      ]
    },
    {
      "cell_type": "markdown",
      "metadata": {
        "id": "EGY_ALGMVqRe"
      },
      "source": [
        "Ejemplo de Reward table\n",
        "\n",
        "\n",
        "```\n",
        "reward_table = {\n",
        "    ((1, 2, 1, 1, 1, 1, 1), 0): 2,   # Si al ejecutar acción 0 se llega a este estado, se obtiene reward 2\n",
        "    ((2, 1, 1, 0, 1, 0, 1), 3): -1,  # Recompensa negativa por alcanzar este estado con acción 3\n",
        "    ((0, 0, 0, 2, 0, 0, 0), 4): -2,  # Penalización máxima para este caso\n",
        "}\n",
        "```\n",
        "\n"
      ]
    },
    {
      "cell_type": "markdown",
      "source": [
        "###Pruebas"
      ],
      "metadata": {
        "id": "Qkn1m8HaXL4R"
      }
    },
    {
      "cell_type": "markdown",
      "source": [
        "#### Prueba 3 alpha = 0.5\n",
        "\n",
        "\n",
        "\n",
        "```\n",
        "n_episodes=10000,\n",
        "max_moves=10,\n",
        "initial_eps=1.0,\n",
        "final_eps=0.05,\n",
        "decay_rate=0.99,\n",
        "alpha=0.5,\n",
        "gamma=0.9,\n",
        "```\n",
        "\n"
      ],
      "metadata": {
        "id": "K3icK3suXvVH"
      }
    },
    {
      "cell_type": "code",
      "execution_count": null,
      "metadata": {
        "colab": {
          "base_uri": "https://localhost:8080/",
          "height": 879
        },
        "outputId": "44afae8d-b1aa-4f93-fc0a-64f88ad80039",
        "id": "gN6Ace57XvVI"
      },
      "outputs": [
        {
          "output_type": "stream",
          "name": "stdout",
          "text": [
            "Se usa la tabla ingresada en el parametro\n"
          ]
        },
        {
          "output_type": "display_data",
          "data": {
            "text/plain": [
              "<Figure size 640x480 with 1 Axes>"
            ],
            "image/png": "[encoded data removed]"
          },
          "metadata": {}
        },
        {
          "output_type": "display_data",
          "data": {
            "text/plain": [
              "<Figure size 800x400 with 1 Axes>"
            ],
            "image/png": "[encoded data removed]"
          },
          "metadata": {}
        }
      ],
      "source": [
        "rng = np.random.default_rng(seed=42)\n",
        "env = ThermalEnv()\n",
        "\n",
        "pi, q_table, q_tables_by_episode, rewards, td_errors_per_episode = q_learning_thermal(\n",
        "    rng, env,\n",
        "    n_episodes=10000,\n",
        "    max_moves=10,\n",
        "    initial_eps=1.0,\n",
        "    final_eps=0.05,\n",
        "    decay_rate=0.99,\n",
        "    alpha=0.5,\n",
        "    gamma=0.9,\n",
        "    q_table=initial_q_table\n",
        ")\n",
        "\n",
        "all_actions = env.get_all_actions()\n",
        "\n",
        "# Filtra solo los estados visitados\n",
        "estados_visitados = sorted([s for s, c in estado_visitas.items() if c > 0])\n",
        "\n",
        "# Visualiza\n",
        "comparar_q_tables(q_tables_by_episode, all_actions)\n"
      ]
    },
    {
      "cell_type": "code",
      "source": [
        "# Recompensa acumulada\n",
        "cumulative_rewards = np.cumsum(rewards)\n",
        "\n",
        "# Recompensa promedio por episodio\n",
        "average_rewards = np.cumsum(rewards) / (np.arange(len(rewards)) + 1)\n",
        "\n",
        "# Gráfica de recompensa acumulada\n",
        "plt.figure()\n",
        "plt.plot(cumulative_rewards)\n",
        "plt.title(\"Recompensa Acumulada por Episodio\")\n",
        "plt.xlabel(\"Episodio\")\n",
        "plt.ylabel(\"Recompensa Acumulada\")\n",
        "plt.grid(True)\n",
        "plt.show()\n",
        "\n",
        "# Gráfica de recompensa promedio\n",
        "plt.figure()\n",
        "plt.plot(average_rewards)\n",
        "plt.title(\"Recompensa Promedio por Episodio\")\n",
        "plt.xlabel(\"Episodio\")\n",
        "plt.ylabel(\"Recompensa Promedio\")\n",
        "plt.grid(True)\n",
        "plt.show()\n"
      ],
      "metadata": {
        "id": "Bfe6BIgRZI98",
        "colab": {
          "base_uri": "https://localhost:8080/",
          "height": 927
        },
        "outputId": "805d3de7-ea0f-456e-f4ab-bcda0efad07f"
      },
      "execution_count": null,
      "outputs": [
        {
          "output_type": "display_data",
          "data": {
            "text/plain": [
              "<Figure size 640x480 with 1 Axes>"
            ],
            "image/png": "[encoded data removed]"
          },
          "metadata": {}
        },
        {
          "output_type": "display_data",
          "data": {
            "text/plain": [
              "<Figure size 640x480 with 1 Axes>"
            ],
            "image/png": "[encoded data removed]"
          },
          "metadata": {}
        }
      ]
    },
    {
      "cell_type": "code",
      "source": [
        "plt.figure()\n",
        "plt.plot(td_errors_per_episode)\n",
        "plt.title(\"Error Temporal Difference por Episodio\")\n",
        "plt.xlabel(\"Episodio\")\n",
        "plt.ylabel(\"TD Error promedio\")\n",
        "plt.grid(True)\n",
        "plt.show()"
      ],
      "metadata": {
        "id": "0Ae3o-Vde6Ur",
        "colab": {
          "base_uri": "https://localhost:8080/",
          "height": 472
        },
        "outputId": "eb3decf7-f055-4661-97d3-84a33d109fb9"
      },
      "execution_count": null,
      "outputs": [
        {
          "output_type": "display_data",
          "data": {
            "text/plain": [
              "<Figure size 640x480 with 1 Axes>"
            ],
            "image/png": "[encoded data removed]"
          },
          "metadata": {}
        }
      ]
    },
    {
      "cell_type": "code",
      "source": [
        "# Crear un diagrama de cajas del error TD por episodio\n",
        "plt.figure()\n",
        "plt.boxplot(td_errors_per_episode)\n",
        "plt.title(\"Diagrama de Cajas del Error Temporal Difference por Episodio\")\n",
        "plt.xlabel(\"Episodio\")  # En un boxplot, el eje X generalmente representa grupos o categorías\n",
        "plt.ylabel(\"TD Error promedio\")\n",
        "plt.grid(True)\n",
        "plt.show()"
      ],
      "metadata": {
        "colab": {
          "base_uri": "https://localhost:8080/",
          "height": 472
        },
        "id": "tpH7GMfBuQkK",
        "outputId": "b8eacdae-a3a7-4ca3-e86d-65f119c9f90b"
      },
      "execution_count": null,
      "outputs": [
        {
          "output_type": "display_data",
          "data": {
            "text/plain": [
              "<Figure size 640x480 with 1 Axes>"
            ],
            "image/png": "[encoded data removed]"
          },
          "metadata": {}
        }
      ]
    },
    {
      "cell_type": "code",
      "source": [
        "import pandas as pd\n",
        "import os\n",
        "\n",
        "# Crear una carpeta para guardar las Q-tables si no existe\n",
        "output_dir = \"/content/drive/MyDrive/MachineLearning/q_tables_output\"\n",
        "import pandas as pd\n",
        "import ipywidgets as widgets\n",
        "from IPython.display import display\n",
        "\n",
        "# Widget para seleccionar el número de episodio\n",
        "episodio_selector = widgets.IntText(\n",
        "    value=1,\n",
        "    description='Episodio:',\n",
        "    min=1\n",
        ")\n",
        "\n",
        "# Botones para mostrar o guardar la Q-table\n",
        "boton_mostrar = widgets.Button(description=\"Mostrar Q-table\")\n",
        "boton_guardar = widgets.Button(description=\"Guardar como CSV\")\n",
        "\n",
        "# Función para mostrar la Q-table\n",
        "def mostrar_q_table(b):\n",
        "    episodio = episodio_selector.value\n",
        "    if 1 <= episodio <= len(q_tables_by_episode):\n",
        "        q_table = q_tables_by_episode[episodio - 1]\n",
        "        q_df = pd.DataFrame.from_dict(q_table, orient='index', columns=[f'Action {j}' for j in range(n_actions)])\n",
        "        display(q_df)\n",
        "    else:\n",
        "        print(f\"❌ Episodio {episodio} no está en el rango disponible (1–{len(q_tables_by_episode)}).\")\n",
        "\n",
        "# Función para guardar la Q-table como CSV\n",
        "def guardar_q_table(b):\n",
        "    episodio = episodio_selector.value\n",
        "    if 1 <= episodio <= len(q_tables_by_episode):\n",
        "        q_table = q_tables_by_episode[episodio - 1]\n",
        "        q_df = pd.DataFrame.from_dict(q_table, orient='index', columns=[f'Action {j}' for j in range(n_actions)])\n",
        "        filename = f\"{output_dir}/q_table_episode_{episodio}.csv\"\n",
        "        q_df.to_csv(filename)\n",
        "        print(f\"✅ Q-table del episodio {episodio} guardada como '{filename}'.\")\n",
        "    else:\n",
        "        print(f\"❌ Episodio {episodio} no está en el rango disponible (1–{len(q_tables_by_episode)}).\")\n",
        "\n",
        "# Asociar funciones a los botones\n",
        "boton_mostrar.on_click(mostrar_q_table)\n",
        "boton_guardar.on_click(guardar_q_table)\n",
        "\n",
        "# Mostrar widgets\n",
        "display(episodio_selector, boton_mostrar, boton_guardar)"
      ],
      "metadata": {
        "id": "5bHi5ZzwXvVI",
        "colab": {
          "base_uri": "https://localhost:8080/",
          "referenced_widgets": [
            "2f07f11241d9456fbc578180d8fb9e4c",
            "d9bd3c371a004468861b56d15ddc8e01",
            "ea74342d958948489fa59eefbe08e551",
            "bde683b00979490da25e57f55c400798",
            "130e9ed42b344d168c4f5c8ed794b12b",
            "40dd6defee6348a99e1b8dcaf6881961",
            "4a83f33c8f624414aeb71dfb4fa630bf",
            "436c381214b14aa9af4c9e0629d851e9",
            "6a6712f3fbfe46fb99c70dedbcb064be"
          ],
          "height": 114
        },
        "outputId": "6be3f395-985e-4ce6-eed4-5d14a89da097"
      },
      "execution_count": null,
      "outputs": [
        {
          "output_type": "display_data",
          "data": {
            "text/plain": [
              "IntText(value=1, description='Episodio:')"
            ],
            "application/vnd.jupyter.widget-view+json": {
              "version_major": 2,
              "version_minor": 0,
              "model_id": "2f07f11241d9456fbc578180d8fb9e4c"
            }
          },
          "metadata": {}
        },
        {
          "output_type": "display_data",
          "data": {
            "text/plain": [
              "Button(description='Mostrar Q-table', style=ButtonStyle())"
            ],
            "application/vnd.jupyter.widget-view+json": {
              "version_major": 2,
              "version_minor": 0,
              "model_id": "bde683b00979490da25e57f55c400798"
            }
          },
          "metadata": {}
        },
        {
          "output_type": "display_data",
          "data": {
            "text/plain": [
              "Button(description='Guardar como CSV', style=ButtonStyle())"
            ],
            "application/vnd.jupyter.widget-view+json": {
              "version_major": 2,
              "version_minor": 0,
              "model_id": "4a83f33c8f624414aeb71dfb4fa630bf"
            }
          },
          "metadata": {}
        }
      ]
    },
    {
      "cell_type": "code",
      "execution_count": null,
      "metadata": {
        "id": "pJxtS9qJXvVJ",
        "colab": {
          "base_uri": "https://localhost:8080/"
        },
        "outputId": "1d5ea596-5fad-498c-ac39-ffb9dde567bd"
      },
      "outputs": [
        {
          "output_type": "stream",
          "name": "stdout",
          "text": [
            "✅ Política aprendida (estado → acción óptima):\n",
            "\n",
            "(1.0, 1.0, 0.0, 1.0, 0.0, 0.0, 0.0) → Bajar temperatura\n",
            "(1.0, 2.0, 0.0, 1.0, 0.0, 0.0, 0.0) → Prender ventilación\n",
            "(1.0, 1.0, 2.0, 2.0, 0.0, 0.0, 0.0) → No hacer nada\n",
            "(1.0, 1.0, 1.0, 1.0, 0.0, 0.0, 0.0) → Prender ventilación\n",
            "(1.0, 0.0, 2.0, 2.0, 0.0, 0.0, 0.0) → Prender ventilación\n",
            "(1.0, 0.0, 1.0, 1.0, 0.0, 0.0, 0.0) → Prender ventilación\n",
            "(1.0, 0.0, 2.0, 0.0, 0.0, 0.0, 0.0) → Prender ventilación\n",
            "(2.0, 2.0, 1.0, 1.0, 0.0, 0.0, 0.0) → Prender ventilación\n",
            "(1.0, 1.0, 1.0, 2.0, 0.0, 0.0, 0.0) → No hacer nada\n",
            "(1.0, 0.0, 0.0, 1.0, 0.0, 0.0, 0.0) → No hacer nada\n",
            "(1.0, 2.0, 2.0, 0.0, 0.0, 0.0, 0.0) → No hacer nada\n",
            "(1.0, 2.0, 1.0, 1.0, 0.0, 0.0, 0.0) → Prender ventilación\n",
            "(1.0, 0.0, 2.0, 1.0, 0.0, 0.0, 0.0) → Prender ventilación\n",
            "(1.0, 0.0, 1.0, 0.0, 0.0, 0.0, 0.0) → Prender ventilación\n",
            "(1.0, 1.0, 2.0, 1.0, 0.0, 0.0, 0.0) → Prender ventilación\n",
            "(1.0, 0.0, 0.0, 2.0, 0.0, 0.0, 0.0) → Prender ventilación\n",
            "(1.0, 1.0, 0.0, 2.0, 0.0, 0.0, 0.0) → Bajar temperatura\n",
            "(1.0, 1.0, 2.0, 0.0, 0.0, 0.0, 0.0) → Prender ventilación\n",
            "(2.0, 1.0, 0.0, 2.0, 0.0, 0.0, 0.0) → Bajar temperatura\n",
            "(1.0, 2.0, 1.0, 2.0, 0.0, 0.0, 0.0) → No hacer nada\n"
          ]
        }
      ],
      "source": [
        "print(\"✅ Política aprendida (estado → acción óptima):\\n\")\n",
        "for s, a in list(pi.items())[:20]:  # muestra solo los primeros 20\n",
        "    print(f\"{s} → {ACTIONS[a]}\")\n"
      ]
    },
    {
      "cell_type": "code",
      "source": [
        "for s, a in pi.items():\n",
        "    if s[1] == 0 and s[4] == 0:\n",
        "        print(f\"{s} → Acción aprendida: {ACTIONS[a]}\")\n"
      ],
      "metadata": {
        "id": "jh-3fHmYi5Vu",
        "colab": {
          "base_uri": "https://localhost:8080/"
        },
        "outputId": "813f1170-ab44-485f-f4d3-846f42aea67a"
      },
      "execution_count": null,
      "outputs": [
        {
          "output_type": "stream",
          "name": "stdout",
          "text": [
            "(1.0, 0.0, 2.0, 2.0, 0.0, 0.0, 0.0) → Acción aprendida: Prender ventilación\n",
            "(1.0, 0.0, 1.0, 1.0, 0.0, 0.0, 0.0) → Acción aprendida: Prender ventilación\n",
            "(1.0, 0.0, 2.0, 0.0, 0.0, 0.0, 0.0) → Acción aprendida: Prender ventilación\n",
            "(1.0, 0.0, 0.0, 1.0, 0.0, 0.0, 0.0) → Acción aprendida: No hacer nada\n",
            "(1.0, 0.0, 2.0, 1.0, 0.0, 0.0, 0.0) → Acción aprendida: Prender ventilación\n",
            "(1.0, 0.0, 1.0, 0.0, 0.0, 0.0, 0.0) → Acción aprendida: Prender ventilación\n",
            "(1.0, 0.0, 0.0, 2.0, 0.0, 0.0, 0.0) → Acción aprendida: Prender ventilación\n",
            "(1.0, 0.0, 0.0, 0.0, 0.0, 0.0, 0.0) → Acción aprendida: Prender ventilación\n",
            "(1.0, 0.0, 1.0, 2.0, 0.0, 0.0, 0.0) → Acción aprendida: Prender ventilación\n",
            "(2.0, 0.0, 0.0, 0.0, 0.0, 0.0, 0.0) → Acción aprendida: Prender ventilación\n",
            "(2.0, 0.0, 1.0, 1.0, 0.0, 0.0, 0.0) → Acción aprendida: Prender ventilación\n",
            "(2.0, 0.0, 0.0, 1.0, 0.0, 0.0, 0.0) → Acción aprendida: No hacer nada\n",
            "(2.0, 0.0, 2.0, 1.0, 0.0, 0.0, 0.0) → Acción aprendida: Prender ventilación\n",
            "(1.0, 0.0, 2.0, 1.0, 0.0, 0.0, 1.0) → Acción aprendida: Prender ventilación\n",
            "(1.0, 0.0, 0.0, 0.0, 0.0, 0.0, 1.0) → Acción aprendida: Prender ventilación\n",
            "(1.0, 0.0, 0.0, 1.0, 0.0, 0.0, 1.0) → Acción aprendida: Apagar ventilación\n",
            "(1.0, 0.0, 2.0, 2.0, 0.0, 0.0, 1.0) → Acción aprendida: Prender ventilación\n",
            "(1.0, 0.0, 1.0, 2.0, 0.0, 0.0, 1.0) → Acción aprendida: Prender ventilación\n",
            "(1.0, 0.0, 0.0, 2.0, 0.0, 0.0, 1.0) → Acción aprendida: Prender ventilación\n",
            "(1.0, 0.0, 1.0, 1.0, 0.0, 0.0, 1.0) → Acción aprendida: Prender ventilación\n",
            "(1.0, 0.0, 2.0, 0.0, 0.0, 0.0, 1.0) → Acción aprendida: Prender ventilación\n",
            "(0.0, 0.0, 1.0, 0.0, 0.0, 0.0, 0.0) → Acción aprendida: Prender ventilación\n",
            "(0.0, 0.0, 2.0, 1.0, 0.0, 0.0, 0.0) → Acción aprendida: Prender ventilación\n",
            "(1.0, 0.0, 1.0, 0.0, 0.0, 0.0, 1.0) → Acción aprendida: Prender ventilación\n",
            "(1.0, 0.0, 2.0, 0.0, 0.0, 1.0, 0.0) → Acción aprendida: Prender ventilación\n",
            "(0.0, 0.0, 0.0, 1.0, 0.0, 0.0, 0.0) → Acción aprendida: No hacer nada\n",
            "(1.0, 0.0, 0.0, 1.0, 0.0, 1.0, 1.0) → Acción aprendida: Apagar ventilación\n",
            "(1.0, 0.0, 0.0, 1.0, 0.0, 1.0, 0.0) → Acción aprendida: No hacer nada\n",
            "(1.0, 0.0, 2.0, 1.0, 0.0, 1.0, 0.0) → Acción aprendida: Prender ventilación\n",
            "(1.0, 0.0, 1.0, 1.0, 0.0, 1.0, 0.0) → Acción aprendida: Prender ventilación\n",
            "(0.0, 0.0, 1.0, 2.0, 0.0, 0.0, 0.0) → Acción aprendida: Prender ventilación\n",
            "(0.0, 0.0, 0.0, 0.0, 0.0, 0.0, 0.0) → Acción aprendida: Prender ventilación\n",
            "(0.0, 0.0, 2.0, 1.0, 0.0, 0.0, 1.0) → Acción aprendida: Prender ventilación\n",
            "(1.0, 0.0, 0.0, 0.0, 0.0, 1.0, 0.0) → Acción aprendida: Prender ventilación\n",
            "(0.0, 0.0, 1.0, 1.0, 0.0, 0.0, 0.0) → Acción aprendida: Prender ventilación\n",
            "(1.0, 0.0, 2.0, 2.0, 0.0, 1.0, 0.0) → Acción aprendida: Prender ventilación\n",
            "(1.0, 0.0, 0.0, 2.0, 0.0, 1.0, 0.0) → Acción aprendida: Prender ventilación\n",
            "(1.0, 0.0, 1.0, 2.0, 0.0, 1.0, 0.0) → Acción aprendida: Prender ventilación\n",
            "(1.0, 0.0, 1.0, 0.0, 0.0, 1.0, 0.0) → Acción aprendida: Prender ventilación\n",
            "(2, 0, 0, 1, 0, 0, 1) → Acción aprendida: Apagar ventilación\n",
            "(2, 0, 0, 1, 0, 1, 0) → Acción aprendida: No hacer nada\n",
            "(0, 0, 0, 1, 0, 1, 0) → Acción aprendida: No hacer nada\n",
            "(0, 0, 0, 1, 0, 2, 0) → Acción aprendida: No hacer nada\n",
            "(2, 0, 0, 1, 0, 1, 1) → Acción aprendida: Apagar ventilación\n",
            "(1, 0, 0, 1, 0, 2, 0) → Acción aprendida: No hacer nada\n",
            "(0, 0, 0, 1, 0, 0, 1) → Acción aprendida: Apagar ventilación\n",
            "(2, 0, 0, 1, 0, 2, 0) → Acción aprendida: No hacer nada\n",
            "(2, 0, 0, 1, 0, 2, 1) → Acción aprendida: Apagar ventilación\n",
            "(0, 0, 0, 1, 0, 1, 1) → Acción aprendida: Apagar ventilación\n",
            "(1, 0, 0, 1, 0, 2, 1) → Acción aprendida: Apagar ventilación\n",
            "(0, 0, 0, 1, 0, 2, 1) → Acción aprendida: Apagar ventilación\n"
          ]
        }
      ]
    },
    {
      "cell_type": "code",
      "execution_count": null,
      "metadata": {
        "id": "ttitnbuFXvVJ",
        "colab": {
          "base_uri": "https://localhost:8080/"
        },
        "outputId": "f14bff14-5eaf-43c2-86e6-d258514b699b"
      },
      "outputs": [
        {
          "output_type": "stream",
          "name": "stdout",
          "text": [
            "\n",
            "🔍 Interpretación detallada de los primeros 20 estados:\n",
            "\n",
            "Temp. int: media (24–30 °C) | N° personas: 1–5 personas | Ubicación: dispersas | Opinión térmica: neutra (2–3) | Horario dentro de 30min: no hay clase | Temp. ext: baja (20–24 °C) | AC: apagado\n",
            " → Acción recomendada: Bajar temperatura\n",
            "\n",
            "Temp. int: media (24–30 °C) | N° personas: 6–10 personas | Ubicación: dispersas | Opinión térmica: neutra (2–3) | Horario dentro de 30min: no hay clase | Temp. ext: baja (20–24 °C) | AC: apagado\n",
            " → Acción recomendada: Prender ventilación\n",
            "\n",
            "Temp. int: media (24–30 °C) | N° personas: 1–5 personas | Ubicación: agrupadas lejos | Opinión térmica: muy calurosa (4–5) | Horario dentro de 30min: no hay clase | Temp. ext: baja (20–24 °C) | AC: apagado\n",
            " → Acción recomendada: No hacer nada\n",
            "\n",
            "Temp. int: media (24–30 °C) | N° personas: 1–5 personas | Ubicación: agrupadas cerca ventilación | Opinión térmica: neutra (2–3) | Horario dentro de 30min: no hay clase | Temp. ext: baja (20–24 °C) | AC: apagado\n",
            " → Acción recomendada: Prender ventilación\n",
            "\n",
            "Temp. int: media (24–30 °C) | N° personas: 0 personas | Ubicación: agrupadas lejos | Opinión térmica: muy calurosa (4–5) | Horario dentro de 30min: no hay clase | Temp. ext: baja (20–24 °C) | AC: apagado\n",
            " → Acción recomendada: Prender ventilación\n",
            "\n",
            "Temp. int: media (24–30 °C) | N° personas: 0 personas | Ubicación: agrupadas cerca ventilación | Opinión térmica: neutra (2–3) | Horario dentro de 30min: no hay clase | Temp. ext: baja (20–24 °C) | AC: apagado\n",
            " → Acción recomendada: Prender ventilación\n",
            "\n",
            "Temp. int: media (24–30 °C) | N° personas: 0 personas | Ubicación: agrupadas lejos | Opinión térmica: muy fría (0–1) | Horario dentro de 30min: no hay clase | Temp. ext: baja (20–24 °C) | AC: apagado\n",
            " → Acción recomendada: Prender ventilación\n",
            "\n",
            "Temp. int: alta (31–38 °C) | N° personas: 6–10 personas | Ubicación: agrupadas cerca ventilación | Opinión térmica: neutra (2–3) | Horario dentro de 30min: no hay clase | Temp. ext: baja (20–24 °C) | AC: apagado\n",
            " → Acción recomendada: Prender ventilación\n",
            "\n",
            "Temp. int: media (24–30 °C) | N° personas: 1–5 personas | Ubicación: agrupadas cerca ventilación | Opinión térmica: muy calurosa (4–5) | Horario dentro de 30min: no hay clase | Temp. ext: baja (20–24 °C) | AC: apagado\n",
            " → Acción recomendada: No hacer nada\n",
            "\n",
            "Temp. int: media (24–30 °C) | N° personas: 0 personas | Ubicación: dispersas | Opinión térmica: neutra (2–3) | Horario dentro de 30min: no hay clase | Temp. ext: baja (20–24 °C) | AC: apagado\n",
            " → Acción recomendada: No hacer nada\n",
            "\n",
            "Temp. int: media (24–30 °C) | N° personas: 6–10 personas | Ubicación: agrupadas lejos | Opinión térmica: muy fría (0–1) | Horario dentro de 30min: no hay clase | Temp. ext: baja (20–24 °C) | AC: apagado\n",
            " → Acción recomendada: No hacer nada\n",
            "\n",
            "Temp. int: media (24–30 °C) | N° personas: 6–10 personas | Ubicación: agrupadas cerca ventilación | Opinión térmica: neutra (2–3) | Horario dentro de 30min: no hay clase | Temp. ext: baja (20–24 °C) | AC: apagado\n",
            " → Acción recomendada: Prender ventilación\n",
            "\n",
            "Temp. int: media (24–30 °C) | N° personas: 0 personas | Ubicación: agrupadas lejos | Opinión térmica: neutra (2–3) | Horario dentro de 30min: no hay clase | Temp. ext: baja (20–24 °C) | AC: apagado\n",
            " → Acción recomendada: Prender ventilación\n",
            "\n",
            "Temp. int: media (24–30 °C) | N° personas: 0 personas | Ubicación: agrupadas cerca ventilación | Opinión térmica: muy fría (0–1) | Horario dentro de 30min: no hay clase | Temp. ext: baja (20–24 °C) | AC: apagado\n",
            " → Acción recomendada: Prender ventilación\n",
            "\n",
            "Temp. int: media (24–30 °C) | N° personas: 1–5 personas | Ubicación: agrupadas lejos | Opinión térmica: neutra (2–3) | Horario dentro de 30min: no hay clase | Temp. ext: baja (20–24 °C) | AC: apagado\n",
            " → Acción recomendada: Prender ventilación\n",
            "\n",
            "Temp. int: media (24–30 °C) | N° personas: 0 personas | Ubicación: dispersas | Opinión térmica: muy calurosa (4–5) | Horario dentro de 30min: no hay clase | Temp. ext: baja (20–24 °C) | AC: apagado\n",
            " → Acción recomendada: Prender ventilación\n",
            "\n",
            "Temp. int: media (24–30 °C) | N° personas: 1–5 personas | Ubicación: dispersas | Opinión térmica: muy calurosa (4–5) | Horario dentro de 30min: no hay clase | Temp. ext: baja (20–24 °C) | AC: apagado\n",
            " → Acción recomendada: Bajar temperatura\n",
            "\n",
            "Temp. int: media (24–30 °C) | N° personas: 1–5 personas | Ubicación: agrupadas lejos | Opinión térmica: muy fría (0–1) | Horario dentro de 30min: no hay clase | Temp. ext: baja (20–24 °C) | AC: apagado\n",
            " → Acción recomendada: Prender ventilación\n",
            "\n",
            "Temp. int: alta (31–38 °C) | N° personas: 1–5 personas | Ubicación: dispersas | Opinión térmica: muy calurosa (4–5) | Horario dentro de 30min: no hay clase | Temp. ext: baja (20–24 °C) | AC: apagado\n",
            " → Acción recomendada: Bajar temperatura\n",
            "\n",
            "Temp. int: media (24–30 °C) | N° personas: 6–10 personas | Ubicación: agrupadas cerca ventilación | Opinión térmica: muy calurosa (4–5) | Horario dentro de 30min: no hay clase | Temp. ext: baja (20–24 °C) | AC: apagado\n",
            " → Acción recomendada: No hacer nada\n",
            "\n"
          ]
        }
      ],
      "source": [
        "# Diccionario de interpretación de variables discretizadas\n",
        "state_labels = {\n",
        "    0: {0: \"baja (15–23 °C)\", 1: \"media (24–30 °C)\", 2: \"alta (31–38 °C)\"},  # temp_int\n",
        "    1: {0: \"0 personas\", 1: \"1–5 personas\", 2: \"6–10 personas\"},              # n_people\n",
        "    2: {0: \"dispersas\", 1: \"agrupadas cerca ventilación\", 2: \"agrupadas lejos\"},  # location\n",
        "    3: {0: \"muy fría (0–1)\", 1: \"neutra (2–3)\", 2: \"muy calurosa (4–5)\"},     # opinion\n",
        "    4: {0: \"no hay clase\", 1: \"hay clase\"},                                 # schedule\n",
        "    5: {0: \"baja (20–24 °C)\", 1: \"media (25–30 °C)\", 2: \"alta (31–35 °C)\"},  # temp_ext\n",
        "    6: {0: \"apagado\", 1: \"encendido\"}                                       # ac_status\n",
        "}\n",
        "\n",
        "print(\"\\n🔍 Interpretación detallada de los primeros 20 estados:\\n\")\n",
        "for s, a in list(pi.items())[:20]:\n",
        "    description = []\n",
        "    for i in range(7):\n",
        "        val = s[i]\n",
        "        if isinstance(val, float) and np.isnan(val):\n",
        "            label = \"NaN\"\n",
        "        else:\n",
        "            label = state_labels[i][val]\n",
        "        variable_name = [\n",
        "            \"Temp. int\", \"N° personas\", \"Ubicación\",\n",
        "            \"Opinión térmica\", \"Horario dentro de 30min\", \"Temp. ext\", \"AC\"\n",
        "        ][i]\n",
        "        description.append(f\"{variable_name}: {label}\")\n",
        "\n",
        "    print(\" | \".join(description))\n",
        "    print(f\" → Acción recomendada: {ACTIONS[a]}\\n\")"
      ]
    },
    {
      "cell_type": "code",
      "source": [
        "# Crear una lista para almacenar las filas del DataFrame\n",
        "policy_data = []\n",
        "\n",
        "for s, a in pi.items():\n",
        "    description = []\n",
        "    for i in range(7):\n",
        "        val = s[i]\n",
        "        variable_name = [\n",
        "            \"temp_interna_discretizada\", \"n_people\", \"location\",\n",
        "            \"thermal_opinion\", \"clases a continuación\", \"temp_externa_discretizada\", \"estado del aire\"\n",
        "        ][i]\n",
        "        if i in state_labels and val in state_labels[i]:\n",
        "             label = state_labels[i][val]\n",
        "        elif isinstance(val, float) and np.isnan(val):\n",
        "             label = \"NaN\"\n",
        "        else:\n",
        "             label = str(val) # Fallback to string representation\n",
        "\n",
        "        description.append(f\"{variable_name}: {label}\")\n",
        "\n",
        "    state_description = \" | \".join(description)\n",
        "    optimal_action = ACTIONS[a]\n",
        "\n",
        "    policy_data.append({\n",
        "        'State': s,\n",
        "        'State Description': state_description,\n",
        "        'Optimal Action': optimal_action\n",
        "    })\n",
        "\n",
        "# Crear el DataFrame\n",
        "policy_df = pd.DataFrame(policy_data)\n",
        "\n",
        "# Definir la ruta para guardar el CSV\n",
        "output_dir = \"/content/drive/MyDrive/MachineLearning/q_tables_output\"\n",
        "os.makedirs(output_dir, exist_ok=True) # Asegurar que el directorio existe\n",
        "policy_filename = f\"{output_dir}/learned_policy_with_interpretation.csv\"\n",
        "\n",
        "# Guardar el DataFrame en un archivo CSV\n",
        "policy_df.to_csv(policy_filename, index=False)\n",
        "\n",
        "print(f\"✅ Política aprendida con interpretación guardada en '{policy_filename}'.\")"
      ],
      "metadata": {
        "colab": {
          "base_uri": "https://localhost:8080/"
        },
        "id": "jj4186eTchqy",
        "outputId": "c6f7138c-d8dd-43ac-9526-cb8fbfb067bf"
      },
      "execution_count": null,
      "outputs": [
        {
          "output_type": "stream",
          "name": "stdout",
          "text": [
            "✅ Política aprendida con interpretación guardada en '/content/drive/MyDrive/MachineLearning/q_tables_output/learned_policy_with_interpretation.csv'.\n"
          ]
        }
      ]
    }
  ],
  "metadata": {
    "colab": {
      "provenance": [],
      "collapsed_sections": [
        "w-u_X7ErMwhc",
        "rCLCqDCUHo-f",
        "Cie0Z6xFH-vJ",
        "AFa2CptGIEoR",
        "vqJsGzzvNEnz",
        "jX05B-u6IK-u",
        "jHE8oe1L5f1B"
      ]
    },
    "kernelspec": {
      "display_name": "Python 3",
      "name": "python3"
    },
    "language_info": {
      "name": "python"
    },
    "widgets": {
      "application/vnd.jupyter.widget-state+json": {
        "2f07f11241d9456fbc578180d8fb9e4c": {
          "model_module": "@jupyter-widgets/controls",
          "model_name": "IntTextModel",
          "model_module_version": "1.5.0",
          "state": {
            "_dom_classes": [],
            "_model_module": "@jupyter-widgets/controls",
            "_model_module_version": "1.5.0",
            "_model_name": "IntTextModel",
            "_view_count": null,
            "_view_module": "@jupyter-widgets/controls",
            "_view_module_version": "1.5.0",
            "_view_name": "IntTextView",
            "continuous_update": false,
            "description": "Episodio:",
            "description_tooltip": null,
            "disabled": false,
            "layout": "IPY_MODEL_d9bd3c371a004468861b56d15ddc8e01",
            "step": 1,
            "style": "IPY_MODEL_ea74342d958948489fa59eefbe08e551",
            "value": 1
          }
        },
        "d9bd3c371a004468861b56d15ddc8e01": {
          "model_module": "@jupyter-widgets/base",
          "model_name": "LayoutModel",
          "model_module_version": "1.2.0",
          "state": {
            "_model_module": "@jupyter-widgets/base",
            "_model_module_version": "1.2.0",
            "_model_name": "LayoutModel",
            "_view_count": null,
            "_view_module": "@jupyter-widgets/base",
            "_view_module_version": "1.2.0",
            "_view_name": "LayoutView",
            "align_content": null,
            "align_items": null,
            "align_self": null,
            "border": null,
            "bottom": null,
            "display": null,
            "flex": null,
            "flex_flow": null,
            "grid_area": null,
            "grid_auto_columns": null,
            "grid_auto_flow": null,
            "grid_auto_rows": null,
            "grid_column": null,
            "grid_gap": null,
            "grid_row": null,
            "grid_template_areas": null,
            "grid_template_columns": null,
            "grid_template_rows": null,
            "height": null,
            "justify_content": null,
            "justify_items": null,
            "left": null,
            "margin": null,
            "max_height": null,
            "max_width": null,
            "min_height": null,
            "min_width": null,
            "object_fit": null,
            "object_position": null,
            "order": null,
            "overflow": null,
            "overflow_x": null,
            "overflow_y": null,
            "padding": null,
            "right": null,
            "top": null,
            "visibility": null,
            "width": null
          }
        },
        "ea74342d958948489fa59eefbe08e551": {
          "model_module": "@jupyter-widgets/controls",
          "model_name": "DescriptionStyleModel",
          "model_module_version": "1.5.0",
          "state": {
            "_model_module": "@jupyter-widgets/controls",
            "_model_module_version": "1.5.0",
            "_model_name": "DescriptionStyleModel",
            "_view_count": null,
            "_view_module": "@jupyter-widgets/base",
            "_view_module_version": "1.2.0",
            "_view_name": "StyleView",
            "description_width": ""
          }
        },
        "bde683b00979490da25e57f55c400798": {
          "model_module": "@jupyter-widgets/controls",
          "model_name": "ButtonModel",
          "model_module_version": "1.5.0",
          "state": {
            "_dom_classes": [],
            "_model_module": "@jupyter-widgets/controls",
            "_model_module_version": "1.5.0",
            "_model_name": "ButtonModel",
            "_view_count": null,
            "_view_module": "@jupyter-widgets/controls",
            "_view_module_version": "1.5.0",
            "_view_name": "ButtonView",
            "button_style": "",
            "description": "Mostrar Q-table",
            "disabled": false,
            "icon": "",
            "layout": "IPY_MODEL_130e9ed42b344d168c4f5c8ed794b12b",
            "style": "IPY_MODEL_40dd6defee6348a99e1b8dcaf6881961",
            "tooltip": ""
          }
        },
        "130e9ed42b344d168c4f5c8ed794b12b": {
          "model_module": "@jupyter-widgets/base",
          "model_name": "LayoutModel",
          "model_module_version": "1.2.0",
          "state": {
            "_model_module": "@jupyter-widgets/base",
            "_model_module_version": "1.2.0",
            "_model_name": "LayoutModel",
            "_view_count": null,
            "_view_module": "@jupyter-widgets/base",
            "_view_module_version": "1.2.0",
            "_view_name": "LayoutView",
            "align_content": null,
            "align_items": null,
            "align_self": null,
            "border": null,
            "bottom": null,
            "display": null,
            "flex": null,
            "flex_flow": null,
            "grid_area": null,
            "grid_auto_columns": null,
            "grid_auto_flow": null,
            "grid_auto_rows": null,
            "grid_column": null,
            "grid_gap": null,
            "grid_row": null,
            "grid_template_areas": null,
            "grid_template_columns": null,
            "grid_template_rows": null,
            "height": null,
            "justify_content": null,
            "justify_items": null,
            "left": null,
            "margin": null,
            "max_height": null,
            "max_width": null,
            "min_height": null,
            "min_width": null,
            "object_fit": null,
            "object_position": null,
            "order": null,
            "overflow": null,
            "overflow_x": null,
            "overflow_y": null,
            "padding": null,
            "right": null,
            "top": null,
            "visibility": null,
            "width": null
          }
        },
        "40dd6defee6348a99e1b8dcaf6881961": {
          "model_module": "@jupyter-widgets/controls",
          "model_name": "ButtonStyleModel",
          "model_module_version": "1.5.0",
          "state": {
            "_model_module": "@jupyter-widgets/controls",
            "_model_module_version": "1.5.0",
            "_model_name": "ButtonStyleModel",
            "_view_count": null,
            "_view_module": "@jupyter-widgets/base",
            "_view_module_version": "1.2.0",
            "_view_name": "StyleView",
            "button_color": null,
            "font_weight": ""
          }
        },
        "4a83f33c8f624414aeb71dfb4fa630bf": {
          "model_module": "@jupyter-widgets/controls",
          "model_name": "ButtonModel",
          "model_module_version": "1.5.0",
          "state": {
            "_dom_classes": [],
            "_model_module": "@jupyter-widgets/controls",
            "_model_module_version": "1.5.0",
            "_model_name": "ButtonModel",
            "_view_count": null,
            "_view_module": "@jupyter-widgets/controls",
            "_view_module_version": "1.5.0",
            "_view_name": "ButtonView",
            "button_style": "",
            "description": "Guardar como CSV",
            "disabled": false,
            "icon": "",
            "layout": "IPY_MODEL_436c381214b14aa9af4c9e0629d851e9",
            "style": "IPY_MODEL_6a6712f3fbfe46fb99c70dedbcb064be",
            "tooltip": ""
          }
        },
        "436c381214b14aa9af4c9e0629d851e9": {
          "model_module": "@jupyter-widgets/base",
          "model_name": "LayoutModel",
          "model_module_version": "1.2.0",
          "state": {
            "_model_module": "@jupyter-widgets/base",
            "_model_module_version": "1.2.0",
            "_model_name": "LayoutModel",
            "_view_count": null,
            "_view_module": "@jupyter-widgets/base",
            "_view_module_version": "1.2.0",
            "_view_name": "LayoutView",
            "align_content": null,
            "align_items": null,
            "align_self": null,
            "border": null,
            "bottom": null,
            "display": null,
            "flex": null,
            "flex_flow": null,
            "grid_area": null,
            "grid_auto_columns": null,
            "grid_auto_flow": null,
            "grid_auto_rows": null,
            "grid_column": null,
            "grid_gap": null,
            "grid_row": null,
            "grid_template_areas": null,
            "grid_template_columns": null,
            "grid_template_rows": null,
            "height": null,
            "justify_content": null,
            "justify_items": null,
            "left": null,
            "margin": null,
            "max_height": null,
            "max_width": null,
            "min_height": null,
            "min_width": null,
            "object_fit": null,
            "object_position": null,
            "order": null,
            "overflow": null,
            "overflow_x": null,
            "overflow_y": null,
            "padding": null,
            "right": null,
            "top": null,
            "visibility": null,
            "width": null
          }
        },
        "6a6712f3fbfe46fb99c70dedbcb064be": {
          "model_module": "@jupyter-widgets/controls",
          "model_name": "ButtonStyleModel",
          "model_module_version": "1.5.0",
          "state": {
            "_model_module": "@jupyter-widgets/controls",
            "_model_module_version": "1.5.0",
            "_model_name": "ButtonStyleModel",
            "_view_count": null,
            "_view_module": "@jupyter-widgets/base",
            "_view_module_version": "1.2.0",
            "_view_name": "StyleView",
            "button_color": null,
            "font_weight": ""
          }
        }
      }
    }
  },
  "nbformat": 4,
  "nbformat_minor": 0
}